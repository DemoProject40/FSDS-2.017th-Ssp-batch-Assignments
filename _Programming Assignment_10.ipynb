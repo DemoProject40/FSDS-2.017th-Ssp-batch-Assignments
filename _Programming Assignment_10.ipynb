{
 "cells": [
  {
   "cell_type": "markdown",
   "id": "edb3585d",
   "metadata": {},
   "source": [
    "# Programming Assignment_10\n"
   ]
  },
  {
   "cell_type": "markdown",
   "id": "30fe82bd",
   "metadata": {},
   "source": [
    " ###  1. Write a Python program to find sum of elements in list?"
   ]
  },
  {
   "cell_type": "code",
   "execution_count": 19,
   "id": "2fdfd346",
   "metadata": {},
   "outputs": [
    {
     "data": {
      "text/plain": [
       "71"
      ]
     },
     "execution_count": 19,
     "metadata": {},
     "output_type": "execute_result"
    }
   ],
   "source": [
    "_list=[4,7,6,23,5,7,5,3,2,9]\n",
    "sum(_list)"
   ]
  },
  {
   "cell_type": "markdown",
   "id": "75532e7f",
   "metadata": {},
   "source": [
    "### 2. Write a Python program to  Multiply all numbers in the list?"
   ]
  },
  {
   "cell_type": "code",
   "execution_count": 20,
   "id": "d49e633f",
   "metadata": {},
   "outputs": [
    {
     "name": "stdout",
     "output_type": "stream",
     "text": [
      "36514800\n"
     ]
    }
   ],
   "source": [
    "def multiply(numbers):  \n",
    "    total = 1\n",
    "    for x in numbers:\n",
    "        total *= x  \n",
    "    return total  \n",
    "print(multiply((_list)))\n"
   ]
  },
  {
   "cell_type": "markdown",
   "id": "aa215168",
   "metadata": {},
   "source": [
    "### 3. Write a Python program to find smallest number in a list?"
   ]
  },
  {
   "cell_type": "code",
   "execution_count": 21,
   "id": "3d1db2b8",
   "metadata": {},
   "outputs": [
    {
     "data": {
      "text/plain": [
       "2"
      ]
     },
     "execution_count": 21,
     "metadata": {},
     "output_type": "execute_result"
    }
   ],
   "source": [
    "min(_list)"
   ]
  },
  {
   "cell_type": "markdown",
   "id": "7a0b007a",
   "metadata": {},
   "source": [
    "### 4. Write a Python program to find largest number in a list?"
   ]
  },
  {
   "cell_type": "code",
   "execution_count": 22,
   "id": "9a40b41d",
   "metadata": {},
   "outputs": [
    {
     "data": {
      "text/plain": [
       "23"
      ]
     },
     "execution_count": 22,
     "metadata": {},
     "output_type": "execute_result"
    }
   ],
   "source": [
    "max(_list)"
   ]
  },
  {
   "cell_type": "markdown",
   "id": "a8b66bbe",
   "metadata": {},
   "source": [
    "### 5. Write a Python program to find second largest number in a list??"
   ]
  },
  {
   "cell_type": "code",
   "execution_count": 28,
   "id": "f0c1d274",
   "metadata": {},
   "outputs": [
    {
     "data": {
      "text/plain": [
       "9"
      ]
     },
     "execution_count": 28,
     "metadata": {},
     "output_type": "execute_result"
    }
   ],
   "source": [
    "_list.sort()\n",
    "_list[-2]"
   ]
  },
  {
   "cell_type": "markdown",
   "id": "abaded8d",
   "metadata": {},
   "source": [
    "### 6. Write a Python program to find N largest elements from a list?"
   ]
  },
  {
   "cell_type": "code",
   "execution_count": 29,
   "id": "c7b6e8f8",
   "metadata": {},
   "outputs": [
    {
     "name": "stdout",
     "output_type": "stream",
     "text": [
      "kth largest element: 23\n"
     ]
    }
   ],
   "source": [
    "arr = [23, 36, 12, 19, 10, 8, 66]\n",
    "\n",
    "arr = sorted(arr, reverse=True)\n",
    "\n",
    "k=3\n",
    "print (\"kth largest element:\", arr[k-1])"
   ]
  },
  {
   "cell_type": "markdown",
   "id": "91c4da68",
   "metadata": {},
   "source": [
    "### 7. Write a Python program to print even numbers in a list?"
   ]
  },
  {
   "cell_type": "code",
   "execution_count": 24,
   "id": "84d59f8e",
   "metadata": {},
   "outputs": [
    {
     "name": "stdout",
     "output_type": "stream",
     "text": [
      "2\n",
      "4\n",
      "6\n"
     ]
    }
   ],
   "source": [
    "for i in _list:\n",
    "    if i%2==0:\n",
    "        print(i)"
   ]
  },
  {
   "cell_type": "markdown",
   "id": "d98c99a4",
   "metadata": {},
   "source": [
    "### 8. Write a Python program to print odd numbers in a List?"
   ]
  },
  {
   "cell_type": "code",
   "execution_count": 25,
   "id": "b3f2bc92",
   "metadata": {},
   "outputs": [
    {
     "name": "stdout",
     "output_type": "stream",
     "text": [
      "3\n",
      "5\n",
      "5\n",
      "7\n",
      "7\n",
      "9\n",
      "23\n"
     ]
    }
   ],
   "source": [
    "for i in _list:\n",
    "    if i%2!=0:\n",
    "        print(i)"
   ]
  },
  {
   "cell_type": "markdown",
   "id": "bf07b63e",
   "metadata": {},
   "source": [
    "### 9. Write a Python program to Remove empty List from List?"
   ]
  },
  {
   "cell_type": "code",
   "execution_count": 32,
   "id": "95644018",
   "metadata": {},
   "outputs": [
    {
     "name": "stdout",
     "output_type": "stream",
     "text": [
      "Original list:\n",
      "[[], [], [], 'Red', 'Green', [1, 2], 'Blue', [], []]\n",
      "\n",
      "After deleting the empty lists from the said lists of lists\n",
      "['Red', 'Green', [1, 2], 'Blue']\n"
     ]
    }
   ],
   "source": [
    "list1 = [[], [], [], 'Red', 'Green', [1,2], 'Blue', [], []]\n",
    "print(\"Original list:\")\n",
    "print(list1)\n",
    "print(\"\\nAfter deleting the empty lists from the said lists of lists\")\n",
    "list2 = [x for x in list1 if x]\n",
    "print(list2)\n"
   ]
  },
  {
   "cell_type": "markdown",
   "id": "9bbd5f0a",
   "metadata": {},
   "source": [
    "### 10. Write a Python program to Cloning or Copying a list?"
   ]
  },
  {
   "cell_type": "code",
   "execution_count": 34,
   "id": "6cdcf347",
   "metadata": {},
   "outputs": [
    {
     "name": "stdout",
     "output_type": "stream",
     "text": [
      "Copied List: ['cat', 0, 6.7]\n"
     ]
    }
   ],
   "source": [
    "my_list = ['cat', 0, 6.7]\n",
    "\n",
    "new_list = my_list.copy()\n",
    "print('Copied List:', new_list)"
   ]
  },
  {
   "cell_type": "markdown",
   "id": "c3b77a14",
   "metadata": {},
   "source": [
    "### 11. Write a Python program to Count occurrences of an element in a list?"
   ]
  },
  {
   "cell_type": "code",
   "execution_count": 36,
   "id": "6abf0e60",
   "metadata": {},
   "outputs": [
    {
     "name": "stdout",
     "output_type": "stream",
     "text": [
      "8 has occurred 5 times\n"
     ]
    }
   ],
   "source": [
    "def countX(lst, x):\n",
    "\tcount = 0\n",
    "\tfor ele in lst:\n",
    "\t\tif (ele == x):\n",
    "\t\t\tcount = count + 1\n",
    "\treturn count\n",
    "\n",
    "\n",
    "# Driver Code\n",
    "lst = [8, 6, 8, 10, 8, 20, 10, 8, 8]\n",
    "x = 8\n",
    "print('{} has occurred {} times'.format(x,countX(lst, x)))\n"
   ]
  },
  {
   "cell_type": "code",
   "execution_count": null,
   "id": "e18c2736",
   "metadata": {},
   "outputs": [],
   "source": []
  },
  {
   "cell_type": "code",
   "execution_count": null,
   "id": "ff670781",
   "metadata": {},
   "outputs": [],
   "source": []
  }
 ],
 "metadata": {
  "kernelspec": {
   "display_name": "Python 3 (ipykernel)",
   "language": "python",
   "name": "python3"
  },
  "language_info": {
   "codemirror_mode": {
    "name": "ipython",
    "version": 3
   },
   "file_extension": ".py",
   "mimetype": "text/x-python",
   "name": "python",
   "nbconvert_exporter": "python",
   "pygments_lexer": "ipython3",
   "version": "3.9.7"
  }
 },
 "nbformat": 4,
 "nbformat_minor": 5
}
