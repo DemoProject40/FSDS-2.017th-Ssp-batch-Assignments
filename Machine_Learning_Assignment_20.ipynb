{
 "cells": [
  {
   "cell_type": "markdown",
   "id": "06a957f3",
   "metadata": {},
   "source": [
    "### Q1. What are the key tasks involved in getting ready to work with machine learning modeling?\n",
    "### Ans - Machine Learning Steps\n",
    "1. Collecting Data: As you know, machines initially learn from the data that you give them. ...\n",
    "2. Preparing the Data: After you have your data, you have to prepare it. ...\n",
    "3. Choosing a Model: ...\n",
    "4. Training the Model: ...\n",
    "5. Evaluating the Model: ...\n",
    "6. Parameter Tuning: ...\n",
    "7. Making Predictions.\n",
    "### --------------------------------------------------------------------------------------------------------------------------------------------------------------\n",
    "### Q2. What are the different forms of data used in machine learning? Give a specific example for each of them.\n",
    "### Ans - \n",
    "1. Quantitative data type: – This type of data type consists of numerical values. Anything which is measured by numbers. ...\n",
    "2. Qualitative data type: – These are the data types that cannot be expressed in numbers. This describes categories or groups and is hence known as the categorical data type.\n",
    "### --------------------------------------------------------------------------------------------------------------------------------------------------------------\n",
    "### Q3. Distinguish:\n",
    "1. Numeric vs. categorical attributes\n",
    "2. Feature selection vs. dimensionality reduction\n",
    "### Ans- \n",
    "1. Categorical data can be stored and identified by names or labels. Numerical data are numbers, not words or descriptions. \n",
    "2. Feature selection is simply selecting and excluding given features without changing them.\n",
    "### --------------------------------------------------------------------------------------------------------------------------------------------------------------\n",
    "### Q4. Make quick notes on any two of the following:\n",
    "1. The histogram\n",
    "2. Use a scatter plot\n",
    "### Ans -\n",
    "1. A histogram is a display of statistical information that uses rectangles to show the frequency of data items in successive numerical intervals of equal size.\n",
    "2. A scatter plot scatter chart, scatter graph uses dots to represent values for two different numeric variables. \n",
    "### --------------------------------------------------------------------------------------------------------------------------------------------------------------\n",
    "### Q5. Why is it necessary to investigate data? Is there a discrepancy in how qualitative and quantitative data are explored?\n",
    "### Ans - Qualitative methods allow you to explore concepts and experiences in more detail.\n",
    "### --------------------------------------------------------------------------------------------------------------------------------------------------------------\n",
    "### Q6. What are the various histogram shapes? What exactly are ‘bins&#39;?\n",
    "### Ans - Histograms can display a large amount of data and the frequency of the data values. \n",
    "### --------------------------------------------------------------------------------------------------------------------------------------------------------------\n",
    "### Q7. How do we deal with data outliers?\n",
    "### Ans - \n",
    "1. Set up a filter in your testing tool. Even though this has a little cost, filtering out outliers is worth it. ...\n",
    "2. Remove or change outliers during post-test analysis. ...\n",
    "3. Change the value of outliers. ...\n",
    "4. Consider the underlying distribution. ...\n",
    "5. Consider the value of mild outliers.\n",
    "### --------------------------------------------------------------------------------------------------------------------------------------------------------------\n",
    "### Q8. What are the various central inclination measures? Why does mean vary too much from median in certain data sets?\n",
    "### Ans - There are three main measures of central tendency: mode. median. mean.\n",
    "### --------------------------------------------------------------------------------------------------------------------------------------------------------------\n",
    "### Q9. Describe how a scatter plot can be used to investigate bivariate relationships. Is it possible to find outliers using a scatter plot?\n",
    "### Ans -  If all points fall directly on a straight line, we have a perfect linear relationship between our two variables.\n",
    "### --------------------------------------------------------------------------------------------------------------------------------------------------------------\n",
    "### Q10. Describe how cross-tabs can be used to figure out how two variables are related.\n",
    "### Ans - the categories of one variable determine the rows of the table, and the categories of the other variable determine the columns.\n",
    "### --------------------------------------------------------------------------------------------------------------------------------------------------------------"
   ]
  },
  {
   "cell_type": "code",
   "execution_count": null,
   "id": "95c4d1f1",
   "metadata": {},
   "outputs": [],
   "source": []
  }
 ],
 "metadata": {
  "kernelspec": {
   "display_name": "Python 3 (ipykernel)",
   "language": "python",
   "name": "python3"
  },
  "language_info": {
   "codemirror_mode": {
    "name": "ipython",
    "version": 3
   },
   "file_extension": ".py",
   "mimetype": "text/x-python",
   "name": "python",
   "nbconvert_exporter": "python",
   "pygments_lexer": "ipython3",
   "version": "3.9.7"
  }
 },
 "nbformat": 4,
 "nbformat_minor": 5
}
