{
 "cells": [
  {
   "cell_type": "markdown",
   "id": "edb3585d",
   "metadata": {},
   "source": [
    "# Programming Assignment_1"
   ]
  },
  {
   "cell_type": "markdown",
   "id": "30fe82bd",
   "metadata": {},
   "source": [
    "### 1. Write a Python program to print &quot;Hello Python&quot;?"
   ]
  },
  {
   "cell_type": "code",
   "execution_count": 28,
   "id": "2fdfd346",
   "metadata": {},
   "outputs": [
    {
     "name": "stdout",
     "output_type": "stream",
     "text": [
      "Hello Python\n"
     ]
    }
   ],
   "source": [
    "print('Hello Python')"
   ]
  },
  {
   "cell_type": "markdown",
   "id": "75532e7f",
   "metadata": {},
   "source": [
    "### 2. Write a Python program to do arithmetical operations addition and division.?"
   ]
  },
  {
   "cell_type": "code",
   "execution_count": 29,
   "id": "d49e633f",
   "metadata": {},
   "outputs": [
    {
     "name": "stdout",
     "output_type": "stream",
     "text": [
      "5\n",
      "-1\n",
      "6\n",
      "0.6666666666666666\n",
      "0\n",
      "2\n",
      "1\n"
     ]
    }
   ],
   "source": [
    "print(2 + 3)\n",
    "print(2 - 3)\n",
    "print(2 * 3)\n",
    "print(2 / 3)\n",
    "print(2 // 3)\n",
    "print(2 % 3)\n",
    "print(2 ^ 3)"
   ]
  },
  {
   "cell_type": "markdown",
   "id": "aa215168",
   "metadata": {},
   "source": [
    "### 3. Write a Python program to find the area of a triangle?"
   ]
  },
  {
   "cell_type": "code",
   "execution_count": 30,
   "id": "3d1db2b8",
   "metadata": {},
   "outputs": [
    {
     "name": "stdout",
     "output_type": "stream",
     "text": [
      "Area of Traingle = 6.0\n"
     ]
    }
   ],
   "source": [
    "b, h = 3, 4\n",
    "area = 1/2 *b*h\n",
    "print('Area of Traingle =',area)"
   ]
  },
  {
   "cell_type": "markdown",
   "id": "7a0b007a",
   "metadata": {},
   "source": [
    "### 4. Write a Python program to swap two variables?"
   ]
  },
  {
   "cell_type": "code",
   "execution_count": 31,
   "id": "9a40b41d",
   "metadata": {},
   "outputs": [
    {
     "name": "stdout",
     "output_type": "stream",
     "text": [
      "swap_value 3 2\n"
     ]
    }
   ],
   "source": [
    "a, b = 2, 3\n",
    "a, b = b, a\n",
    "print('swap_value', a, b)"
   ]
  },
  {
   "cell_type": "markdown",
   "id": "a8b66bbe",
   "metadata": {},
   "source": [
    "### 5. Write a Python program to generate a random number?"
   ]
  },
  {
   "cell_type": "code",
   "execution_count": 32,
   "id": "f0c1d274",
   "metadata": {},
   "outputs": [
    {
     "name": "stdout",
     "output_type": "stream",
     "text": [
      "0.091\n"
     ]
    }
   ],
   "source": [
    "import random\n",
    "n = random.random() \n",
    "print(round(n,3))"
   ]
  },
  {
   "cell_type": "code",
   "execution_count": null,
   "id": "0dbc6583",
   "metadata": {},
   "outputs": [],
   "source": []
  }
 ],
 "metadata": {
  "kernelspec": {
   "display_name": "Python 3 (ipykernel)",
   "language": "python",
   "name": "python3"
  },
  "language_info": {
   "codemirror_mode": {
    "name": "ipython",
    "version": 3
   },
   "file_extension": ".py",
   "mimetype": "text/x-python",
   "name": "python",
   "nbconvert_exporter": "python",
   "pygments_lexer": "ipython3",
   "version": "3.9.7"
  }
 },
 "nbformat": 4,
 "nbformat_minor": 5
}
