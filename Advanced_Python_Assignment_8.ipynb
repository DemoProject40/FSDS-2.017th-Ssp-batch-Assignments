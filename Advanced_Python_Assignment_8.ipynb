{
 "cells": [
  {
   "cell_type": "markdown",
   "id": "06a957f3",
   "metadata": {},
   "source": [
    "### Q1. What are the two latest user-defined exception constraints in Python 3.X?\n",
    "### Ans - \n",
    "### 1) Class JustException(Exception): def __init__(self, message): print(message)\n",
    "### 2) Raise JustException(\"Raise an Exception\")\n",
    "### --------------------------------------------------------------------------------------------------------------------------------------------------------------\n",
    "### Q2. How are class-based exceptions that have been raised matched to handlers?\n",
    "### Ans - Class-based exceptions are either raised by the ABAP statement RAISE EXCEPTION or by the ABAP runtime environment.\n",
    "### --------------------------------------------------------------------------------------------------------------------------------------------------------------\n",
    "### Q3. Describe two methods for attaching context information to exception artefacts.\n",
    "### Ans- Try – This method catches the exceptions raised by the program. Raise – Triggers an exception manually using custom exceptions.\n",
    "### --------------------------------------------------------------------------------------------------------------------------------------------------------------\n",
    "### Q4. Describe two methods for specifying the text of an exception object&#39;s error message.\n",
    "### Ans -\n",
    "### 1) Using printStackTrace Method.\n",
    "### 2) Using getMessage() Method.\n",
    "### --------------------------------------------------------------------------------------------------------------------------------------------------------------\n",
    "### Q5. Why do you no longer use string-based exceptions?\n",
    "### Ans - This means that using exceptions as a routine part of your flow control is perfectly acceptable, and in fact, encouraged.\n",
    "### --------------------------------------------------------------------------------------------------------------------------------------------------------------"
   ]
  },
  {
   "cell_type": "code",
   "execution_count": null,
   "id": "2f9a23f2",
   "metadata": {},
   "outputs": [],
   "source": []
  }
 ],
 "metadata": {
  "kernelspec": {
   "display_name": "Python 3 (ipykernel)",
   "language": "python",
   "name": "python3"
  },
  "language_info": {
   "codemirror_mode": {
    "name": "ipython",
    "version": 3
   },
   "file_extension": ".py",
   "mimetype": "text/x-python",
   "name": "python",
   "nbconvert_exporter": "python",
   "pygments_lexer": "ipython3",
   "version": "3.9.7"
  }
 },
 "nbformat": 4,
 "nbformat_minor": 5
}
