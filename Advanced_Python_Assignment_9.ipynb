{
 "cells": [
  {
   "cell_type": "markdown",
   "id": "06a957f3",
   "metadata": {},
   "source": [
    "### Q1. In Python 3.X, what are the names and functions of string object types?\n",
    "### Ans - capitalize( ) function. lower( ) function. title( ) function. casefold( ) function. upper( ) function. count( ) function. find( ) function. replace( ) function.\n",
    "### --------------------------------------------------------------------------------------------------------------------------------------------------------------\n",
    "### Q2. How do the string forms in Python 3.X vary in terms of operations?\n",
    "### Ans - Assignment operator: “=.” Concatenate operator: “+.” String repetition operator: “*.” String slicing operator: “[]” String comparison operator: “==” & “!= ” Membership operator: “in” & “not in” Escape sequence operator: “\\.” String formatting operator: “%” & “{}”\n",
    "### --------------------------------------------------------------------------------------------------------------------------------------------------------------\n",
    "### Q3. In 3.X, how do you put non-ASCII Unicode characters in a string?\n",
    "### Ans- adding a u character prefix before the string literal: \n",
    "### --------------------------------------------------------------------------------------------------------------------------------------------------------------\n",
    "### Q4. In Python 3.X, what are the key differences between text-mode and binary-mode files?\n",
    "### Ans -There are mainly two types of data files — text file and binary file. A text file consists of human readable characters, which can be opened by any text editor\n",
    "### --------------------------------------------------------------------------------------------------------------------------------------------------------------\n",
    "### Q5. How can you interpret a Unicode text file containing text encoded in a different encoding than your platform&#39;s default?\n",
    "### Ans - When working with text files in Python, it's considered a best practice to specify the character encoding that you're working with.\n",
    "### --------------------------------------------------------------------------------------------------------------------------------------------------------------\n",
    "### Q6. What is the best way to make a Unicode text file in a particular encoding format?\n",
    "### Ans - You should either use normal open() and encode the unicode yourself, or (usually a better idea) use codecs. open() and not encode the data yourself. Save this answer.\n",
    "### --------------------------------------------------------------------------------------------------------------------------------------------------------------\n",
    "### Q7. What qualifies ASCII text as a form of Unicode text?\n",
    "### Ans - ASCII encodes symbols, digits, letters, etc., whereas Unicode encodes special texts from different languages, letters, symbols, etc. \n",
    "### --------------------------------------------------------------------------------------------------------------------------------------------------------------\n",
    "### Q8.How much of an effect does the change in string types in Python 3.X have on your code?\n",
    "### Ans - Python 3 include changing the print declaration to a built-in function, improved integer division, and improved Unicode support.\n",
    "### --------------------------------------------------------------------------------------------------------------------------------------------------------------"
   ]
  },
  {
   "cell_type": "code",
   "execution_count": null,
   "id": "db384a2f",
   "metadata": {},
   "outputs": [],
   "source": []
  }
 ],
 "metadata": {
  "kernelspec": {
   "display_name": "Python 3 (ipykernel)",
   "language": "python",
   "name": "python3"
  },
  "language_info": {
   "codemirror_mode": {
    "name": "ipython",
    "version": 3
   },
   "file_extension": ".py",
   "mimetype": "text/x-python",
   "name": "python",
   "nbconvert_exporter": "python",
   "pygments_lexer": "ipython3",
   "version": "3.9.7"
  }
 },
 "nbformat": 4,
 "nbformat_minor": 5
}
