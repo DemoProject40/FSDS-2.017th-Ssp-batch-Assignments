{
 "cells": [
  {
   "cell_type": "markdown",
   "id": "2342f0bf",
   "metadata": {},
   "source": [
    "### Q1. What is the relationship between classes and modules?\n",
    "### Ans - Modules are collections of methods and constants. They cannot generate instances. Classes may generate instances (objects), and have per-instance state (instance variables).\n",
    "### --------------------------------------------------------------------------------------------------------------------------------------------------------------\n",
    "### Q2. How do you make instances and classes?\n",
    "### Ans - you call the class using class name and pass in whatever arguments its __init__ method accepts.\n",
    "### --------------------------------------------------------------------------------------------------------------------------------------------------------------\n",
    "### Q3. Where and how should be class attributes created?\n",
    "### Ans- Class attributes are the variables defined directly in the class\n",
    "### --------------------------------------------------------------------------------------------------------------------------------------------------------------\n",
    "### Q4. Where and how are instance attributes created?\n",
    "### Ans - Instance attributes are defined in the constructor\n",
    "### --------------------------------------------------------------------------------------------------------------------------------------------------------------\n",
    "### Q5. What does the term \"self\" in a Python class mean?\n",
    "### Ans - The self parameter is a reference to the current instance of the class\n",
    "### --------------------------------------------------------------------------------------------------------------------------------------------------------------\n",
    "### Q6. How does a Python class handle operator overloading?\n",
    "### Ans - The operator overloading in Python means provide extended meaning beyond their predefined operational meaning\n",
    "### --------------------------------------------------------------------------------------------------------------------------------------------------------------\n",
    "### Q7. When do you consider allowing operator overloading of your classes?\n",
    "### Ans - Ensures that objects of a class behave consistently with built-in types and other user-defined types.\n",
    "### --------------------------------------------------------------------------------------------------------------------------------------------------------------\n",
    "### Q8. What is the most popular form of operator overloading?\n",
    "### Ans - The most frequent instance is the adding up operator '+'\n",
    "### --------------------------------------------------------------------------------------------------------------------------------------------------------------\n",
    "### Q9. What are the two most important concepts to grasp in order to comprehend Python OOP code?\n",
    "### Ans - Both inheritance and polymorphism are fundamental concepts of object oriented programming.\n",
    "### --------------------------------------------------------------------------------------------------------------------------------------------------------------"
   ]
  }
 ],
 "metadata": {
  "kernelspec": {
   "display_name": "Python 3 (ipykernel)",
   "language": "python",
   "name": "python3"
  },
  "language_info": {
   "codemirror_mode": {
    "name": "ipython",
    "version": 3
   },
   "file_extension": ".py",
   "mimetype": "text/x-python",
   "name": "python",
   "nbconvert_exporter": "python",
   "pygments_lexer": "ipython3",
   "version": "3.9.7"
  }
 },
 "nbformat": 4,
 "nbformat_minor": 5
}
