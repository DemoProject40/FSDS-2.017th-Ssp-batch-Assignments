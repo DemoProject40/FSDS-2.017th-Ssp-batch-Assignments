{
 "cells": [
  {
   "cell_type": "markdown",
   "id": "06a957f3",
   "metadata": {},
   "source": [
    "### Q1. What is the concept of human learning? Please give two examples.\n",
    "### Ans -  Learning to drive a motor-car, typewriting, singing or memorizing a poem or a mathematical table, and music etc.\n",
    "### --------------------------------------------------------------------------------------------------------------------------------------------------------------\n",
    "### Q2. What different forms of human learning are there? Are there any machine learning equivalents?\n",
    "### Ans - There are three general types of machine learning: supervised, unsupervised, and reinforcement learning.\n",
    "### --------------------------------------------------------------------------------------------------------------------------------------------------------------\n",
    "### Q3. What is machine learning, and how does it work? What are the key responsibilities of machine learning?\n",
    "### Ans- Machine Learning is an AI technique that teaches computers to learn from experience.\n",
    "### --------------------------------------------------------------------------------------------------------------------------------------------------------------\n",
    "### Q4. Define the terms &quot;penalty&quot; and &quot;reward&quot; in the context of reinforcement learning.\n",
    "### Ans -  This type of machine learning uses a reward-penalty method to teach an AI system. If it makes the right move, it gets rewarded. If it makes a mistake, it receives a penalty\n",
    "### --------------------------------------------------------------------------------------------------------------------------------------------------------------\n",
    "### Q5. Explain the term &quot;learning as a search&quot;?\n",
    "### Ans -  Learning can be viewed as a search through the space of all sentences in a concept description language for a sentence that best describes the data. \n",
    "### --------------------------------------------------------------------------------------------------------------------------------------------------------------\n",
    "### Q6. What are the various goals of machine learning? What is the relationship between these and human learning?\n",
    "### Ans - The goal of ML, in simples words, is to understand the nature of (human and other forms of) learn- ing, and to build learning capability in computers.\n",
    "### --------------------------------------------------------------------------------------------------------------------------------------------------------------\n",
    "### Q7. Illustrate the various elements of machine learning using a real-life illustration.\n",
    "### Ans - Facial recognition. ... Product recommendations. ... Email automation and spam filtering. ...Financial accuracy. ... Social media optimization. ... Healthcare advancement. ... mobile voice to text and predictive text. ... Predictive analytics\n",
    "### --------------------------------------------------------------------------------------------------------------------------------------------------------------\n",
    "### Q8.Provide an example of the abstraction method.\n",
    "### Ans - when we are driving a car, we are only concerned about driving the car like start/stop the car, accelerate/ break, etc.\n",
    "### --------------------------------------------------------------------------------------------------------------------------------------------------------------\n",
    "### Q9. What is the concept of generalization? What function does it play in the machine learning process?\n",
    "### Ans - Generalization refers to your model's ability to adapt properly to new, previously unseen data, drawn from the same distribution as the one used to create the model.\n",
    "### --------------------------------------------------------------------------------------------------------------------------------------------------------------\n",
    "### Q10. What is classification, exactly? What are the main distinctions between classification and regression?\n",
    "### Ans - Classification\t                                               Regression\n",
    "### Classification gives out discrete values.\t  Regression gives continuous values.\n",
    "### Given a group of data, this method helps   It uses the mapping function to map values to continuous output.\n",
    "### group the data into different groups.\t\n",
    "### --------------------------------------------------------------------------------------------------------------------------------------------------------------\n",
    "### Q11. What is regression, and how does it work? Give an example of a real-world problem that was solved using regression.\n",
    "### Ans - Medical researchers often use linear regression to understand the relationship between drug dosage and blood pressure of patients.\n",
    "### --------------------------------------------------------------------------------------------------------------------------------------------------------------\n",
    "### Q12. Describe the clustering mechanism in detail.\n",
    "### Ans - Clustering is the task of dividing the unlabeled data or data points into different clusters such that similar data points fall in the same cluster than those which differ from the others.\n",
    "### --------------------------------------------------------------------------------------------------------------------------------------------------------------\n",
    "### Q13. Make brief observations on two of the following topics:\n",
    "1. Machine learning algorithms are used\n",
    "2. Studying under supervision\n",
    "### Ans - \n",
    "- machine learning uses programmed algorithms that receive and analyse input data to predict output values within an acceptable range.\n",
    "- study or preparation of lessons by a class or group in the presence of a teacher who maintains order and may assist individual pupils in improving methods and habits of study.\n"
   ]
  },
  {
   "cell_type": "code",
   "execution_count": null,
   "id": "39f9d512",
   "metadata": {},
   "outputs": [],
   "source": []
  }
 ],
 "metadata": {
  "kernelspec": {
   "display_name": "Python 3 (ipykernel)",
   "language": "python",
   "name": "python3"
  },
  "language_info": {
   "codemirror_mode": {
    "name": "ipython",
    "version": 3
   },
   "file_extension": ".py",
   "mimetype": "text/x-python",
   "name": "python",
   "nbconvert_exporter": "python",
   "pygments_lexer": "ipython3",
   "version": "3.9.7"
  }
 },
 "nbformat": 4,
 "nbformat_minor": 5
}
