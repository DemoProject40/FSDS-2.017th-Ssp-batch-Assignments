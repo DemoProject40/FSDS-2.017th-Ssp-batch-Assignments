{
 "cells": [
  {
   "cell_type": "markdown",
   "id": "06a957f3",
   "metadata": {},
   "source": [
    "### Q1. What is feature engineering, and how does it work? Explain the various aspects of feature engineering in depth.\n",
    "### Ans - Feature engineering is a machine learning technique that leverages data to create new variables that aren't in the training set.\n",
    "### --------------------------------------------------------------------------------------------------------------------------------------------------------------\n",
    "### Q2. What is feature selection, and how does it work? What is the aim of it? What are the various methods of function selection?\n",
    "### Ans - Feature Selection is the method of reducing the input variable to your model by using only relevant data and getting rid of noise in data.\n",
    "### --------------------------------------------------------------------------------------------------------------------------------------------------------------\n",
    "### Q3. Describe the function selection filter and wrapper approaches. State the pros and cons of each approach?\n",
    "### Ans- The main differences between the filter and wrapper methods for feature selection are: Filter methods measure the relevance of features by their correlation with dependent variable while wrapper methods measure the usefulness of a subset of feature by actually training a model on it.\n",
    "### --------------------------------------------------------------------------------------------------------------------------------------------------------------\n",
    "### Q4. Describe the overall feature selection process.\n",
    "### Ans -  It is the process of automatically choosing relevant features for your machine learning model based on the type of problem you are trying to solve.\n",
    "### --------------------------------------------------------------------------------------------------------------------------------------------------------------\n",
    "### Q5. Explain the key underlying principle of feature extraction using an example. What are the most widely used function extraction algorithms?\n",
    "### Ans - to the process of transforming raw data into numerical features that can be processed while preserving the information in the original data set.\n",
    "### --------------------------------------------------------------------------------------------------------------------------------------------------------------\n",
    "### Q6. Describe the feature engineering process in the sense of a text categorization issue.\n",
    "### Ans - It is the process of using domain knowledge of the data to create features that make machine learning algorithms work.\n",
    "### --------------------------------------------------------------------------------------------------------------------------------------------------------------\n",
    "### Q7. What makes cosine similarity a good metric for text categorization? A document-term matrix has two rows with values of (2, 3, 2, 0, 2, 3, 3, 0, 1) and (2, 1, 0, 0, 3, 2, 1, 3, 1). Find the resemblance in cosine.\n",
    "### Ans - It is measured by the cosine of the angle between two vectors and determines whether two vectors are pointing in roughly the same direction\n",
    "### --------------------------------------------------------------------------------------------------------------------------------------------------------------\n",
    "### Q8. What is the formula for calculating Hamming distance? Between 10001011 and 11001111, calculate the Hamming gap.\n",
    "### Ans - For example, given the two codewords 10001001 and 10110001, their Hamming distance is 3, as the bit positions colored blue differ.\n",
    "### --------------------------------------------------------------------------------------------------------------------------------------------------------------\n",
    "### Q9. Compare the Jaccard index and similarity matching coefficient of two features with values (1, 1, 0, 0, 1, 0, 1, 1) and (1, 1, 0, 0, 0, 1, 1, 1), respectively (1, 0, 0, 1, 1, 0, 0, 1).\n",
    "### Ans - Typically, the Jaccard similarity coefficient (or index) is used to compare the similarity between two sets. For two sets, A and B , the Jaccard index is defined to be the ratio of the size of their intersection and the size of their union\n",
    "### --------------------------------------------------------------------------------------------------------------------------------------------------------------\n",
    "### Q10. State what is meant by &quot;high-dimensional data set&quot;? Could you offer a few real-life examples? What are the difficulties in using machine learning techniques on a data set with many dimensions? What can be done about it?\n",
    "### Ans - High Dimensional means that the number of dimensions are staggeringly high — so high that calculations become extremely difficult.\n",
    "### --------------------------------------------------------------------------------------------------------------------------------------------------------------\n",
    "### Q11. What is PCA is an acronym for Personal Computer Analysis.\n",
    "### Ans - Principal component analysis, or PCA, is a statistical procedure that allows you to summarize the information content in large data tables by means of a smaller set of “summary indices” that can be more easily visualized and analyzed.\n",
    "### --------------------------------------------------------------------------------------------------------------------------------------------------------------\n"
   ]
  },
  {
   "cell_type": "code",
   "execution_count": null,
   "id": "3c421e34",
   "metadata": {},
   "outputs": [],
   "source": []
  }
 ],
 "metadata": {
  "kernelspec": {
   "display_name": "Python 3 (ipykernel)",
   "language": "python",
   "name": "python3"
  },
  "language_info": {
   "codemirror_mode": {
    "name": "ipython",
    "version": 3
   },
   "file_extension": ".py",
   "mimetype": "text/x-python",
   "name": "python",
   "nbconvert_exporter": "python",
   "pygments_lexer": "ipython3",
   "version": "3.10.9"
  }
 },
 "nbformat": 4,
 "nbformat_minor": 5
}
