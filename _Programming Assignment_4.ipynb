{
 "cells": [
  {
   "cell_type": "markdown",
   "id": "edb3585d",
   "metadata": {},
   "source": [
    "# Programming Assignment_4\n"
   ]
  },
  {
   "cell_type": "markdown",
   "id": "30fe82bd",
   "metadata": {},
   "source": [
    "### 1. Write a Python Program to Find the Factorial of a Number?"
   ]
  },
  {
   "cell_type": "code",
   "execution_count": 1,
   "id": "2fdfd346",
   "metadata": {},
   "outputs": [
    {
     "name": "stdout",
     "output_type": "stream",
     "text": [
      "Enter the value : 5\n",
      "factorial of 5 is 120\n"
     ]
    }
   ],
   "source": [
    "factorial = 1\n",
    "factorial_num = int(input('Enter the value : '))\n",
    "if factorial_num < 0 :\n",
    "    print('not exist')\n",
    "elif factorial_num == 0 :\n",
    "    print('Factorial \"0\" is always \"1\"')\n",
    "else :\n",
    "    for i in range(2,factorial_num + 1):\n",
    "        factorial = factorial * i\n",
    "    print(f'factorial of {factorial_num} is {factorial}')\n",
    "    "
   ]
  },
  {
   "cell_type": "markdown",
   "id": "75532e7f",
   "metadata": {},
   "source": [
    "### 2. Write a Python Program to Display the multiplication Table?"
   ]
  },
  {
   "cell_type": "code",
   "execution_count": 2,
   "id": "d49e633f",
   "metadata": {},
   "outputs": [
    {
     "name": "stdout",
     "output_type": "stream",
     "text": [
      "Enter the value of n : 5\n",
      "5 X 1 = 5\n",
      "5 X 2 = 5\n",
      "5 X 3 = 5\n",
      "5 X 4 = 5\n",
      "5 X 5 = 5\n",
      "5 X 6 = 5\n",
      "5 X 7 = 5\n",
      "5 X 8 = 5\n",
      "5 X 9 = 5\n",
      "5 X 10 = 5\n"
     ]
    }
   ],
   "source": [
    "num = int(input('Enter the value of n : '))\n",
    "for i in range(1,11):\n",
    "    print(f'{num} X {i} = {num *1}')"
   ]
  },
  {
   "cell_type": "markdown",
   "id": "aa215168",
   "metadata": {},
   "source": [
    "### 3. Write a Python Program to Print the Fibonacci sequence?"
   ]
  },
  {
   "cell_type": "code",
   "execution_count": 1,
   "id": "3d1db2b8",
   "metadata": {},
   "outputs": [
    {
     "name": "stdout",
     "output_type": "stream",
     "text": [
      "How many terms the user wants to print? 6\n",
      "The fibonacci sequence of the numbers is:\n",
      "0\n",
      "1\n",
      "1\n",
      "2\n",
      "3\n",
      "5\n"
     ]
    }
   ],
   "source": [
    "n_terms = int(input (\"How many terms the user wants to print? \"))  \n",
    "  \n",
    "n1 = 0  \n",
    "n2 = 1  \n",
    "count = 0\n",
    "if n_terms <= 0:  \n",
    "    print (\"Please enter a positive integer, the given number is not valid\")  \n",
    "elif n_terms == 1:  \n",
    "    print (\"The Fibonacci sequence of the numbers up to\", n_terms, \": \")  \n",
    "    print(n1)  \n",
    "else:  \n",
    "    print (\"The fibonacci sequence of the numbers is:\")  \n",
    "    while count < n_terms:  \n",
    "        print(n1)  \n",
    "        nth = n1 + n2   \n",
    "        n1 = n2  \n",
    "        n2 = nth  \n",
    "        count += 1  "
   ]
  },
  {
   "cell_type": "markdown",
   "id": "7a0b007a",
   "metadata": {},
   "source": [
    "### 4. Write a Python Program to Check Armstrong Number?"
   ]
  },
  {
   "cell_type": "code",
   "execution_count": 10,
   "id": "9a40b41d",
   "metadata": {},
   "outputs": [
    {
     "name": "stdout",
     "output_type": "stream",
     "text": [
      "Enter a number: 407\n",
      "407 is an Armstrong number\n"
     ]
    }
   ],
   "source": [
    "num = int(input(\"Enter a number: \"))\n",
    "sum = 0\n",
    "\n",
    "temp = num\n",
    "while temp > 0:\n",
    "    digit = temp % 10\n",
    "    sum += digit ** 3\n",
    "    temp //= 10\n",
    "\n",
    "if num == sum:\n",
    "    print(num,\"is an Armstrong number\")\n",
    "else:\n",
    "    print(num,\"is not an Armstrong number\")"
   ]
  },
  {
   "cell_type": "markdown",
   "id": "a8b66bbe",
   "metadata": {},
   "source": [
    "### 5. Write a Python Program to Find Armstrong Number in an Interval?"
   ]
  },
  {
   "cell_type": "code",
   "execution_count": 2,
   "id": "f0c1d274",
   "metadata": {},
   "outputs": [
    {
     "name": "stdout",
     "output_type": "stream",
     "text": [
      "153\n",
      "370\n",
      "371\n",
      "407\n",
      "1634\n"
     ]
    }
   ],
   "source": [
    "lower = 100\n",
    "upper = 2000\n",
    "\n",
    "for num in range(lower, upper + 1):\n",
    "    order = len(str(num))\n",
    "    sum = 0\n",
    "    temp = num\n",
    "    while temp > 0:\n",
    "        digit = temp % 10\n",
    "        sum += digit ** order\n",
    "        temp //= 10\n",
    "\n",
    "    if num == sum:\n",
    "        print(num)"
   ]
  },
  {
   "cell_type": "markdown",
   "id": "da48830a",
   "metadata": {},
   "source": [
    "###  6. Write a Python Program to Find the Sum of Natural Numbers?"
   ]
  },
  {
   "cell_type": "code",
   "execution_count": 3,
   "id": "ef3ffbcc",
   "metadata": {},
   "outputs": [
    {
     "name": "stdout",
     "output_type": "stream",
     "text": [
      "Enter the value of n : 5\n",
      "Sum of natural number is :  15\n"
     ]
    }
   ],
   "source": [
    "sum = 0\n",
    "num = int(input('Enter the value of n : '))\n",
    "if num < 0 :\n",
    "    print('Please enter the positive number : ')\n",
    "else:\n",
    "    for i in range(num+1):\n",
    "        sum = sum + i\n",
    "    print('Sum of natural number is : ',sum)"
   ]
  },
  {
   "cell_type": "code",
   "execution_count": null,
   "id": "07aaf414",
   "metadata": {},
   "outputs": [],
   "source": []
  }
 ],
 "metadata": {
  "kernelspec": {
   "display_name": "Python 3 (ipykernel)",
   "language": "python",
   "name": "python3"
  },
  "language_info": {
   "codemirror_mode": {
    "name": "ipython",
    "version": 3
   },
   "file_extension": ".py",
   "mimetype": "text/x-python",
   "name": "python",
   "nbconvert_exporter": "python",
   "pygments_lexer": "ipython3",
   "version": "3.9.7"
  }
 },
 "nbformat": 4,
 "nbformat_minor": 5
}
