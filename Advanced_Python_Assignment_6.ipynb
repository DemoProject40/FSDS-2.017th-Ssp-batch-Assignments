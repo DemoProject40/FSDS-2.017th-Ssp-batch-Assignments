{
 "cells": [
  {
   "cell_type": "markdown",
   "id": "06a957f3",
   "metadata": {},
   "source": [
    "### Q1. Describe three applications for exception processing.\n",
    "### Ans - It can consist of 3 steps:\n",
    "#### a try block that encloses the code section which might throw an exception,\n",
    "#### one or more catch blocks that handle the exception and.\n",
    "#### a finally block which gets executed after the try block was successfully executed or a thrown exception was handled.\n",
    "### --------------------------------------------------------------------------------------------------------------------------------------------------------------\n",
    "### Q2. What happens if you don&#39;t do something extra to treat an exception?\n",
    "### Ans - the program terminates abruptly and the code past the line that caused the exception will not get executed\n",
    "### --------------------------------------------------------------------------------------------------------------------------------------------------------------\n",
    "### Q3. What are your options for recovering from an exception in your script?\n",
    "### Ans-  You can also provide a generic except clause, which handles any exception. After the except clause(s), you can include an else-clause.\n",
    "### --------------------------------------------------------------------------------------------------------------------------------------------------------------\n",
    "### Q4. Describe two methods for triggering exceptions in your script.\n",
    "### Ans - Try – This method catches the exceptions raised by the program. Raise – Triggers an exception manually using custom exceptions.\n",
    "### --------------------------------------------------------------------------------------------------------------------------------------------------------------\n",
    "### Q5. Identify two methods for specifying actions to be executed at termination time, regardless of whether or not an exception exists.\n",
    "### Ans -  the execution will reach the break statement and the while loop will be left\n",
    "### --------------------------------------------------------------------------------------------------------------------------------------------------------------"
   ]
  },
  {
   "cell_type": "code",
   "execution_count": null,
   "id": "1c5e96ca",
   "metadata": {},
   "outputs": [],
   "source": []
  }
 ],
 "metadata": {
  "kernelspec": {
   "display_name": "Python 3 (ipykernel)",
   "language": "python",
   "name": "python3"
  },
  "language_info": {
   "codemirror_mode": {
    "name": "ipython",
    "version": 3
   },
   "file_extension": ".py",
   "mimetype": "text/x-python",
   "name": "python",
   "nbconvert_exporter": "python",
   "pygments_lexer": "ipython3",
   "version": "3.9.7"
  }
 },
 "nbformat": 4,
 "nbformat_minor": 5
}
