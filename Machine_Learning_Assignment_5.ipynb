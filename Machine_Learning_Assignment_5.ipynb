{
 "cells": [
  {
   "cell_type": "markdown",
   "id": "06a957f3",
   "metadata": {},
   "source": [
    "### Q1. What are the key tasks that machine learning entails? What does data pre-processing imply?\n",
    "### Ans - Data preprocessing is a process of preparing the raw data and making it suitable for a machine learning model.\n",
    "### --------------------------------------------------------------------------------------------------------------------------------------------------------------\n",
    "### Q2. Describe quantitative and qualitative data in depth. Make a distinction between the two.\n",
    "### Ans - Quantitative data is numbers-based, countable, or measurable. Qualitative data is interpretation-based, descriptive, and relating to language.\n",
    "### --------------------------------------------------------------------------------------------------------------------------------------------------------------\n",
    "### Q3. Create a basic data collection that includes some sample records. Have at least one attribute from each of the machine learning data types.\n",
    "### Ans- Data can come in many forms, but machine learning models rely on four primary data types. These include numerical data, categorical data, time series data, and text data.\n",
    "### --------------------------------------------------------------------------------------------------------------------------------------------------------------\n",
    "### Q4. What are the various causes of machine learning data issues? What are the ramifications?\n",
    "### Ans -Commonly used Algorithms in Machine Learning. ...\n",
    "- Inadequate Training Data. ...\n",
    "- Poor quality of data. ...\n",
    "- Non-representative training data. ...\n",
    "- Overfitting and Underfitting. ...\n",
    "- Monitoring and maintenance. ...\n",
    "- Getting bad recommendations. ...\n",
    "- Lack of skilled resources.\n",
    "### --------------------------------------------------------------------------------------------------------------------------------------------------------------\n",
    "### Q5. Demonstrate various approaches to categorical data exploration with appropriate examples.\n",
    "### Ans - Categorical data is analysed using mode and median distributions, where nominal data is analysed with mode while ordinal data uses both. In some cases, ordinal data may also be analysed using univariate statistics, bivariate statistics, regression applications, linear trends and classification methods.\n",
    "### --------------------------------------------------------------------------------------------------------------------------------------------------------------\n",
    "### Q6. How would the learning activity be affected if certain variables have missing values? Having said that, what can be done about it?\n",
    "### Ans - How would the learning activity be affected if certain variables have missing values? Many machine learning algorithms fail if the dataset contains missing values. However, algorithms like K-nearest and Naive Bayes support data with missing values.\n",
    "### --------------------------------------------------------------------------------------------------------------------------------------------------------------\n",
    "### Q7. Describe the various methods for dealing with missing data values in depth.\n",
    "### Ans - This is one of the most common methods of imputing values when dealing with missing data. In cases where there are a small number of missing observations, data scientists can calculate the mean or median of the existing observations \n",
    "### --------------------------------------------------------------------------------------------------------------------------------------------------------------\n",
    "### Q8. What are the various data pre-processing techniques? Explain dimensionality reduction and  function selection in a few words.\n",
    "### Ans - \n",
    "- Data Cleaning.\n",
    "- Dimensionality Reduction.\n",
    "- Feature Engineering.\n",
    "- Sampling Data.\n",
    "- Data Transformation.\n",
    "- Imbalanced Data\n",
    "### --------------------------------------------------------------------------------------------------------------------------------------------------------------\n",
    "### Q9. Describe the various components of a box plot in detail? When will the lower whisker surpass the upper whisker in length? How can box plots be used to identify outliers?\n",
    "### Ans - A box and whisker plot—also called a box plot—displays the five-number summary of a set of data. The five-number summary is the minimum, first quartile, median, third quartile, and maximum. In a box plot, we draw a box from the first quartile to the third quartile. A vertical line goes through the box at the median.\n",
    "### --------------------------------------------------------------------------------------------------------------------------------------------------------------\n",
    "### Q10. Make brief notes on any two of the following:\n",
    "- Data collected at regular intervals\n",
    "### Ans - Interval data, also called an integer, is defined as a data type which is measured along a scale, in which each point is placed at equal distance from one another.\n",
    "### --------------------------------------------------------------------------------------------------------------------------------------------------------------\n",
    "### Q11. Make a comparison between:\n",
    "1. Data with nominal and ordinal values\n",
    "2. Histogram and box plot\n",
    "3. The average and median\n",
    "### Ans - \n",
    "- Nominal Data is classified without any intrinsic ordering or rank, Ordinal Data has some predetermined or natural order.\n",
    "- WHAT ARE HISTOGRAMS AND BOX PLOTS? Histograms are a special kind of bar graph that shows a bar for a range of data values instead of a single value. A box plot is a data display that draws a box over a number line to show the interquartile range of the data.\n",
    "- The average is calculated by adding up all of the individual values and dividing this total by the number of observations. The median is calculated by taking the “middle” value, the value for which half of the observations are larger and half are smaller.\n",
    "### --------------------------------------------------------------------------------------------------------------------------------------------------------------"
   ]
  },
  {
   "cell_type": "code",
   "execution_count": null,
   "id": "9f81fde1",
   "metadata": {},
   "outputs": [],
   "source": []
  }
 ],
 "metadata": {
  "kernelspec": {
   "display_name": "Python 3 (ipykernel)",
   "language": "python",
   "name": "python3"
  },
  "language_info": {
   "codemirror_mode": {
    "name": "ipython",
    "version": 3
   },
   "file_extension": ".py",
   "mimetype": "text/x-python",
   "name": "python",
   "nbconvert_exporter": "python",
   "pygments_lexer": "ipython3",
   "version": "3.9.7"
  }
 },
 "nbformat": 4,
 "nbformat_minor": 5
}
