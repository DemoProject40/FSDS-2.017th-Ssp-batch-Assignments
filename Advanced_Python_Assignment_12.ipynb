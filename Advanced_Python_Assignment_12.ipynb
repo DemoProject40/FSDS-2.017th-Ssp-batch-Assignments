{
 "cells": [
  {
   "cell_type": "markdown",
   "id": "06a957f3",
   "metadata": {},
   "source": [
    "### Q1. Does assigning a value to a string&#39;s indexed character violate Python&#39;s string immutability?\n",
    "### Ans - The string itself is immutable but the label can change. Assigning a new value to an existing variable is perfectly valid.\n",
    "### --------------------------------------------------------------------------------------------------------------------------------------------------------------\n",
    "### Q2. Does using the += operator to concatenate strings violate Python&#39;s string immutability? Why or why not?\n",
    "### Ans -  The string after the += has the same ID as the string before the += .\n",
    "### --------------------------------------------------------------------------------------------------------------------------------------------------------------\n",
    "### Q3. In Python, how many different ways are there to index a character?\n",
    "### Ans- Individual characters in a string can be accessed by specifying the string name followed by a number in square brackets ( [] ). \n",
    "### --------------------------------------------------------------------------------------------------------------------------------------------------------------\n",
    "### Q4. What is the relationship between indexing and slicing?\n",
    "### Ans - “Indexing” means referring to an element of an iterable by its position within the iterable. “Slicing” means getting a subset of elements from an iterable based on their indices.\n",
    "### --------------------------------------------------------------------------------------------------------------------------------------------------------------\n",
    "### Q5. What is an indexed character&#39;s exact data type? What is the data form of a slicing-generated substring?\n",
    "### Ans - Explore string operators, index values, length of strings, string slicing ... Types that are comprised of smaller pieces are called collection data types.\n",
    "### --------------------------------------------------------------------------------------------------------------------------------------------------------------\n",
    "### Q6. What is the relationship between string and character &quot;types&quot; in Python?\n",
    "### Ans - Python does not have a character data type, a single character is simply a string with a length of 1.\n",
    "### --------------------------------------------------------------------------------------------------------------------------------------------------------------\n",
    "### Q7. Identify at least two operators and one method that allow you to combine one or more smaller strings to create a larger string.\n",
    "### Ans - Using the + operator. The simplest and most common method of concatenating a string is using the plus symbol (“+”). ... Using the * operator. ... Using the join() method. ... Using the % operator. ... Using the format() function. ... Using the f-string. ... Using StringIO.\n",
    "### --------------------------------------------------------------------------------------------------------------------------------------------------------------\n",
    "### Q8. What is the benefit of first checking the target string with in or not in before using the index method to find a substring?\n",
    "### Ans - This can be done by running a nested loop traversing the given string and in that loop running another loop checking for sub-strings starting \n",
    "### --------------------------------------------------------------------------------------------------------------------------------------------------------------\n",
    "### Q9. Which operators and built-in string methods produce simple Boolean (true/false) results?\n",
    "### Ans -  True , False , not , and , and or are the only built-in Python Boolean operators.\n",
    "### --------------------------------------------------------------------------------------------------------------------------------------------------------------"
   ]
  },
  {
   "cell_type": "code",
   "execution_count": null,
   "id": "bec08908",
   "metadata": {},
   "outputs": [],
   "source": []
  }
 ],
 "metadata": {
  "kernelspec": {
   "display_name": "Python 3 (ipykernel)",
   "language": "python",
   "name": "python3"
  },
  "language_info": {
   "codemirror_mode": {
    "name": "ipython",
    "version": 3
   },
   "file_extension": ".py",
   "mimetype": "text/x-python",
   "name": "python",
   "nbconvert_exporter": "python",
   "pygments_lexer": "ipython3",
   "version": "3.9.7"
  }
 },
 "nbformat": 4,
 "nbformat_minor": 5
}
