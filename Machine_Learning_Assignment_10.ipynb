{
 "cells": [
  {
   "cell_type": "markdown",
   "id": "06a957f3",
   "metadata": {},
   "source": [
    "### Q1. Define the Bayesian interpretation of probability.\n",
    "### Ans - Bayesian probability is an interpretation of the concept of probability, in which, instead of frequency or propensity of some phenomenon, probability\n",
    "### --------------------------------------------------------------------------------------------------------------------------------------------------------------\n",
    "### Q2. Define probability of a union of two events with equation.\n",
    "### Ans - P(A or B) = P(A) + P(B). The chance of any (one or more) of two or more events occurring is called the union of the events.\n",
    "### --------------------------------------------------------------------------------------------------------------------------------------------------------------\n",
    "### Q3. What is joint probability? What is its formula?\n",
    "### Ans- A joint probability is a possibility of occurring one or more independent events simultaneously, denoted as P (A∩B) or P (A and B). One can calculate it by multiplying the probability of both outcomes = P (A)*P (B).\n",
    "### --------------------------------------------------------------------------------------------------------------------------------------------------------------\n",
    "### Q4. What is chain rule of probability?\n",
    "### Ans - calculates any component of the joint distribution of a set of random variables using only conditional probabilities.\n",
    "### --------------------------------------------------------------------------------------------------------------------------------------------------------------\n",
    "### Q5. What is conditional probability means? What is the formula of it?\n",
    "### Ans - Conditional probability: p(A|B) is the probability of event A occurring, given that event B occurs.\n",
    "### --------------------------------------------------------------------------------------------------------------------------------------------------------------\n",
    "### Q6. What are continuous random variables?\n",
    "### Ans - A random variable X is continuous if possible values comprise either a single interval on the number line or a union of disjoint intervals.\n",
    "### --------------------------------------------------------------------------------------------------------------------------------------------------------------\n",
    "### Q7. What are Bernoulli distributions? What is the formula of it?\n",
    "### Ans - Bernoulli distribution is a discrete probability distribution where the Bernoulli trial will have only 0 (failure) or 1 (success) as its outcome.\n",
    "### --------------------------------------------------------------------------------------------------------------------------------------------------------------\n",
    "### Q8. What is binomial distribution? What is the formula?\n",
    "### Ans - The probability distribution of a binomial random variable is called a binomial distribution\n",
    "### --------------------------------------------------------------------------------------------------------------------------------------------------------------\n",
    "### Q9. What is Poisson distribution? What is the formula?\n",
    "### Ans - The formula for the Poisson distribution function is given by: f(x) =(e– λ λx)/x! Also, read: Probability.\n",
    "### --------------------------------------------------------------------------------------------------------------------------------------------------------------\n",
    "### Q10. Define covariance.\n",
    "### Ans - Covariance, in statistics, is the measurement of relationships between two random variables.\n",
    "### --------------------------------------------------------------------------------------------------------------------------------------------------------------\n",
    "### Q11. Define correlation\n",
    "### Ans - Correlation describes the strength of an association between two variables, and is completely symmetrical\n",
    "### --------------------------------------------------------------------------------------------------------------------------------------------------------------\n",
    "### Q12. Define sampling with replacement. Give example.\n",
    "### Ans - you would choose one person's name, put that person's name back in the hat, and then choose another name. \n",
    "### --------------------------------------------------------------------------------------------------------------------------------------------------------------\n",
    "### Q13. What is sampling without replacement? Give example.\n",
    "### Ans - sampling without replacement, in which a subset of the observations are selected randomly, and once an observation is selected it cannot be selected again.\n",
    "### --------------------------------------------------------------------------------------------------------------------------------------------------------------\n",
    "### Q14. What is hypothesis? Give example.\n",
    "### Ans - Professionals typically write hypotheses as if/then statements, such as if someone eats a lot of sugar, then they will develop cavities in their teeth. \n",
    "### --------------------------------------------------------------------------------------------------------------------------------------------------------------"
   ]
  },
  {
   "cell_type": "code",
   "execution_count": null,
   "id": "dbb5171f",
   "metadata": {},
   "outputs": [],
   "source": []
  }
 ],
 "metadata": {
  "kernelspec": {
   "display_name": "Python 3 (ipykernel)",
   "language": "python",
   "name": "python3"
  },
  "language_info": {
   "codemirror_mode": {
    "name": "ipython",
    "version": 3
   },
   "file_extension": ".py",
   "mimetype": "text/x-python",
   "name": "python",
   "nbconvert_exporter": "python",
   "pygments_lexer": "ipython3",
   "version": "3.10.9"
  }
 },
 "nbformat": 4,
 "nbformat_minor": 5
}
