{
 "cells": [
  {
   "cell_type": "markdown",
   "id": "edb3585d",
   "metadata": {},
   "source": [
    "# Advanced_Python_Assignment_1"
   ]
  },
  {
   "cell_type": "markdown",
   "id": "30fe82bd",
   "metadata": {},
   "source": [
    "### Q1. What is the purpose of Python's OOP?\n",
    "### Ans - Object-oriented programming is a programming paradigm that provides a means of structuring       programs so that properties and behaviors are bundled into individual objects.\n",
    "### --------------------------------------------------------------------------------------------------------------------------------------------------------------\n",
    "### Q2. Where does an inheritance search look for an attribute?\n",
    "### Ans - first in the instance object, then in the class the instance was created from, then in all higher superclasses, progressing from left to right (by default).\n",
    "### --------------------------------------------------------------------------------------------------------------------------------------------------------------\n",
    "### Q3. How do you distinguish between a class object and an instance object?\n",
    "### Ans- while the terms 'object' and 'instance' are interchangeable, the term 'instance' refers to an object's relationship to its class.\n",
    "### --------------------------------------------------------------------------------------------------------------------------------------------------------------\n",
    "### Q4. What makes the first argument in a class’s method function special?\n",
    "### Ans - A class method is similar to an instance method, but it has a class object passed as its first argument.\n",
    "### --------------------------------------------------------------------------------------------------------------------------------------------------------------\n",
    "### Q5. What is the purpose of the __init__ method?\n",
    "### Ans - It's allows the class to initialize the attributes of the class.\n",
    "### --------------------------------------------------------------------------------------------------------------------------------------------------------------\n",
    "### Q6. What is the process for creating a class instance?\n",
    "### Ans - To call the class using class name and pass in whatever arguments its __init__ method accepts.\n",
    "### --------------------------------------------------------------------------------------------------------------------------------------------------------------\n",
    "### Q7. What is the process for creating a class?\n",
    "### Ans - In Python, a class can be created by using the keyword class, followed by the class name.\n",
    "### --------------------------------------------------------------------------------------------------------------------------------------------------------------\n",
    "### Q8. How would you define the superclasses of a class?\n",
    "### Ans - A superclass is the class from which many subclasses can be created.\n",
    "### --------------------------------------------------------------------------------------------------------------------------------------------------------------"
   ]
  },
  {
   "cell_type": "code",
   "execution_count": null,
   "id": "9578f87e",
   "metadata": {},
   "outputs": [],
   "source": []
  }
 ],
 "metadata": {
  "kernelspec": {
   "display_name": "Python 3 (ipykernel)",
   "language": "python",
   "name": "python3"
  },
  "language_info": {
   "codemirror_mode": {
    "name": "ipython",
    "version": 3
   },
   "file_extension": ".py",
   "mimetype": "text/x-python",
   "name": "python",
   "nbconvert_exporter": "python",
   "pygments_lexer": "ipython3",
   "version": "3.9.7"
  }
 },
 "nbformat": 4,
 "nbformat_minor": 5
}
