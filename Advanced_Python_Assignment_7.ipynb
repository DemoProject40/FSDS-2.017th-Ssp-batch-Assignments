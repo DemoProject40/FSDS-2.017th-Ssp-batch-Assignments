{
 "cells": [
  {
   "cell_type": "markdown",
   "id": "06a957f3",
   "metadata": {},
   "source": [
    "### Q1. What is the purpose of the try statement?\n",
    "### Ans - The try statement allows you to define a block of code to be tested for errors while it is being executed\n",
    "### --------------------------------------------------------------------------------------------------------------------------------------------------------------\n",
    "### Q2. What are the two most popular try statement variations?\n",
    "### Ans - The Different Try/Except Variations. So far we've used a try / except and even a try / except / except , but this is only two-thirds of the story. There are two other optional segments to a try block: else and finally . Both of these optional blocks will come after the try and the except .\n",
    "### --------------------------------------------------------------------------------------------------------------------------------------------------------------\n",
    "### Q3. What is the purpose of the raise statement?\n",
    "### Ans- The RAISE statement stops normal execution of a PL/SQL block or subprogram and transfers control to an exception handler.\n",
    "### --------------------------------------------------------------------------------------------------------------------------------------------------------------\n",
    "### Q4. What does the assert statement do, and what other statement is it like?\n",
    "### Ans - The assert keyword lets you test if a condition in your code returns True, if not, the program will raise an AssertionError. \n",
    "### --------------------------------------------------------------------------------------------------------------------------------------------------------------\n",
    "### Q5. What is the purpose of the with/as argument, and what other statement is it like?\n",
    "### Ans - It ensures closing resources right after processing them.\n",
    "### --------------------------------------------------------------------------------------------------------------------------------------------------------------"
   ]
  },
  {
   "cell_type": "code",
   "execution_count": null,
   "id": "71e5b546",
   "metadata": {},
   "outputs": [],
   "source": []
  }
 ],
 "metadata": {
  "kernelspec": {
   "display_name": "Python 3 (ipykernel)",
   "language": "python",
   "name": "python3"
  },
  "language_info": {
   "codemirror_mode": {
    "name": "ipython",
    "version": 3
   },
   "file_extension": ".py",
   "mimetype": "text/x-python",
   "name": "python",
   "nbconvert_exporter": "python",
   "pygments_lexer": "ipython3",
   "version": "3.9.7"
  }
 },
 "nbformat": 4,
 "nbformat_minor": 5
}
