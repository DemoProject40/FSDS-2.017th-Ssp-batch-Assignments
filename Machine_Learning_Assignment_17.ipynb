{
 "cells": [
  {
   "cell_type": "markdown",
   "id": "06a957f3",
   "metadata": {},
   "source": [
    "### Q1. What does one mean by the term &quot;machine learning&quot;?\n",
    "### Ans - Machine learning is a branch of artificial intelligence (AI) and computer science which focuses on the use of data and algorithms to imitate the way that humans learn, gradually improving its accuracy.\n",
    "### --------------------------------------------------------------------------------------------------------------------------------------------------------------\n",
    "### Q2. Can you think of 4 distinct types of issues where it shines?\n",
    "### Ans - spam detection in email, cancer diagnosis, fraudulent credit card transactions, and automatically driving vehicles.\n",
    "### --------------------------------------------------------------------------------------------------------------------------------------------------------------\n",
    "### Q3.What is a labeled training set, and how does it work?\n",
    "### Ans- The training set is used to train the algorithm, and then you use the trained model on the test set to predict the response variable values that are already known. \n",
    "### --------------------------------------------------------------------------------------------------------------------------------------------------------------\n",
    "### Q4.What are the two most important tasks that are supervised?\n",
    "### Ans - The two most common supervised learning tasks are regression and classification.\n",
    "### --------------------------------------------------------------------------------------------------------------------------------------------------------------\n",
    "### Q5.Can you think of four examples of unsupervised tasks?\n",
    "### Ans - Four common unsupervised tasks inclused clustering, visualization, dimensionality reduction , and association rule learning.\n",
    "### --------------------------------------------------------------------------------------------------------------------------------------------------------------\n",
    "### Q6.State the machine learning model that would be best to make a robot walk through various unfamiliar terrains?\n",
    "### Ans - The best Machine Learning algorithm to allow a robot to walk in unknown terrain is Reinforced Learning,\n",
    "### --------------------------------------------------------------------------------------------------------------------------------------------------------------\n",
    "### Q7.Which algorithm will you use to divide your customers into different groups?\n",
    "### Ans - We will use the k-means clustering algorithm to derive the optimum number of clusters and understand the underlying customer segments based on the data provided.\n",
    "### --------------------------------------------------------------------------------------------------------------------------------------------------------------\n",
    "### Q8.Will you consider the problem of spam detection to be a supervised or unsupervised learning problem?\n",
    "### Ans - Spam detection is a supervised machine learning problem. This means you must provide your machine learning model with a set of examples of spam and ham messages\n",
    "### --------------------------------------------------------------------------------------------------------------------------------------------------------------\n",
    "### Q9.What is the concept of an online learning system?\n",
    "### Ans - Online learning refers to instruction that is delivered electronically through various multimedia and Internet platforms and applications. \n",
    "### --------------------------------------------------------------------------------------------------------------------------------------------------------------\n",
    "### Q10.What is out-of-core learning, and how does it differ from core learning?\n",
    "### Ans - It is a way to train your model on data that cannot fit your core memory. Out-of-core learning refers to the machine learning algorithms working with data that cannot fit into a single machine's memory but can easily fit into some data storage, such as a local hard disk or web repository.\n",
    "### --------------------------------------------------------------------------------------------------------------------------------------------------------------\n",
    "### Q11.What kind of learning algorithm makes predictions using a similarity measure?\n",
    "### Ans - Learning algorithm that relies on a similarity measure to make predictions is instance-based algorithm.\n",
    "### --------------------------------------------------------------------------------------------------------------------------------------------------------------\n",
    "### Q12.What&#39;s the difference between a model parameter and a hyperparameter in a learning algorithm?\n",
    "### Ans - Model parameters are estimated from data automatically and model hyperparameters are set manually and are used in processes to help estimate model parameters.\n",
    "### --------------------------------------------------------------------------------------------------------------------------------------------------------------\n",
    "### Q13.What are the criteria that model-based learning algorithms look for? What is the most popular method they use to achieve success? What method do they use to make predictions?\n",
    "### Ans - Model based learning algorithm search for the optimal value of parameters in a model that will give the best results for the new instances\n",
    "### --------------------------------------------------------------------------------------------------------------------------------------------------------------\n",
    "### Q14.Can you name four of the most important Machine Learning challenges?\n",
    "### Ans - Machine Learning include overfitting the data (using a model too complicated), underfitting the data (using a simple model), lacking in data and nonrepresentative data.\n",
    "### --------------------------------------------------------------------------------------------------------------------------------------------------------------\n",
    "### Q15.What happens if the model performs well on the training data but fails to generalize the results to new situations? Can you think of three different options?\n",
    "### Ans- It will make inaccurate predictions when given new data, making the model useless even though it is able to make accurate predictions for the training data. \n",
    "### --------------------------------------------------------------------------------------------------------------------------------------------------------------\n",
    "### Q16. What exactly is a test set, and why would you need one?\n",
    "### Ans - Using validation and test sets will increase the generalizing capability of the model on new unseen data. \n",
    "### --------------------------------------------------------------------------------------------------------------------------------------------------------------\n",
    "### Q17.What is a validation set&#39;s purpose?\n",
    "### Ans - A validation set is a set of data used to train artificial intelligence (AI) with the goal of finding and optimizing the best model to solve a given problem.\n",
    "### --------------------------------------------------------------------------------------------------------------------------------------------------------------\n",
    "### Q18. 18.What precisely is the train-dev kit, when will you need it, how do you put it to use?\n",
    "### Ans - This train-dev set will be used to measure how much the model is overfitting. Again, refer to the course content for a full overview.\n",
    "### --------------------------------------------------------------------------------------------------------------------------------------------------------------\n",
    "### Q19.What could go wrong if you use the test set to tune hyperparameters?\n",
    "### Ans - you actually lose the possibility to find out how good your model would actually be on unseen data\n",
    "### --------------------------------------------------------------------------------------------------------------------------------------------------------------"
   ]
  },
  {
   "cell_type": "code",
   "execution_count": null,
   "id": "e3f2b90b",
   "metadata": {},
   "outputs": [],
   "source": []
  }
 ],
 "metadata": {
  "kernelspec": {
   "display_name": "Python 3 (ipykernel)",
   "language": "python",
   "name": "python3"
  },
  "language_info": {
   "codemirror_mode": {
    "name": "ipython",
    "version": 3
   },
   "file_extension": ".py",
   "mimetype": "text/x-python",
   "name": "python",
   "nbconvert_exporter": "python",
   "pygments_lexer": "ipython3",
   "version": "3.9.7"
  }
 },
 "nbformat": 4,
 "nbformat_minor": 5
}
