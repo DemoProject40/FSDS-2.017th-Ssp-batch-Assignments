{
 "cells": [
  {
   "cell_type": "markdown",
   "id": "06a957f3",
   "metadata": {},
   "source": [
    "### Q1. Which two operator overloading methods can you use in your classes to support iteration?\n",
    "### Ans - To overload the + operator, we will need to implement __add__() function in the class. With great power comes great responsibility. We can do whatever we like inside this function.\n",
    "### --------------------------------------------------------------------------------------------------------------------------------------------------------------\n",
    "### Q2. In what contexts do the two operator overloading methods manage printing?\n",
    "### Ans - Operator overloading and Function overloading.\n",
    "### --------------------------------------------------------------------------------------------------------------------------------------------------------------\n",
    "### Q3. In a class, how do you intercept slice operations?\n",
    "### Ans- The slice() method returns a portion of an iterable as an object of the slice class based on the specified range.\n",
    "### --------------------------------------------------------------------------------------------------------------------------------------------------------------\n",
    "### Q4. In a class, how do you capture in-place addition?\n",
    "### Ans - calculating the sum x + y and assigning the result to the first operands variable name x \n",
    "### --------------------------------------------------------------------------------------------------------------------------------------------------------------\n",
    "### Q5. When is it appropriate to use operator overloading?\n",
    "### Ans - It allows us to provide an intuitive interface to our class users, plus makes it possible for templates to work equally well with classes and built-in types.\n",
    "### --------------------------------------------------------------------------------------------------------------------------------------------------------------"
   ]
  },
  {
   "cell_type": "code",
   "execution_count": null,
   "id": "49815e70",
   "metadata": {},
   "outputs": [],
   "source": []
  }
 ],
 "metadata": {
  "kernelspec": {
   "display_name": "Python 3 (ipykernel)",
   "language": "python",
   "name": "python3"
  },
  "language_info": {
   "codemirror_mode": {
    "name": "ipython",
    "version": 3
   },
   "file_extension": ".py",
   "mimetype": "text/x-python",
   "name": "python",
   "nbconvert_exporter": "python",
   "pygments_lexer": "ipython3",
   "version": "3.9.7"
  }
 },
 "nbformat": 4,
 "nbformat_minor": 5
}
