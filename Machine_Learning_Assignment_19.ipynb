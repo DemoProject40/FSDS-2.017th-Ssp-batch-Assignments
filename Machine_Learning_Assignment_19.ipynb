{
 "cells": [
  {
   "cell_type": "markdown",
   "id": "06a957f3",
   "metadata": {},
   "source": [
    "### Q1.Explain the term machine learning, and how does it work? Explain two machine learning applications in the business world. What are some of the ethical concerns that machine learning applications could raise?\n",
    "### Ans - Machine Learning is an AI technique that teaches computers to learn from experience. Machine learning algorithms use computational methods to “learn” information directly from data without relying on a predetermined equation as a model.\n",
    "### --------------------------------------------------------------------------------------------------------------------------------------------------------------\n",
    "### Q2. Describe the process of human learning:\n",
    "1. Under the supervision of experts\n",
    "2. With the assistance of experts in an indirect manner\n",
    "3. Self-education\n",
    "### Ans - \n",
    "### Supervised learning uses a training set to teach models to yield the desired output. This training dataset includes inputs and correct outputs, which allow the model to learn over time\n",
    "\n",
    "### Indirect guidance is provided through learners actively observing, listening, and engaging with social practices and norms,\n",
    "\n",
    "### the act or process of educating oneself by one's own efforts especially through reading and informal study.\n",
    "### --------------------------------------------------------------------------------------------------------------------------------------------------------------\n",
    "### Q3. Provide a few examples of various types of machine learning.\n",
    "### Ans- Supervised Learning. Unsupervised Learning. Semi-Supervised Learning. Reinforced Learning.\n",
    "### --------------------------------------------------------------------------------------------------------------------------------------------------------------\n",
    "### Q4. Examine the various forms of machine learning.\n",
    "### Ans - The three machine learning types are supervised, unsupervised, and reinforcement learning\n",
    "### --------------------------------------------------------------------------------------------------------------------------------------------------------------\n",
    "### Q5. Can you explain what a well-posed learning problem is? Explain the main characteristics that must be present to identify a learning problem properly.\n",
    "### Ans - A machine learning problem is well-posed if a solution to it exists, if that solution is unique, and if that solution depends on the data / experience but it is not sensitive to reasonably small changes in the data / experience.\n",
    "### --------------------------------------------------------------------------------------------------------------------------------------------------------------\n",
    "### Q6. Is machine learning capable of solving all problems? Give a detailed explanation of your answer.\n",
    "### Ans - However, it's also led some to philosophize that machine learning algorithms can solve all of humanity's problems. Machine learning systems work best when applied to a task that a human would otherwise do. It can do well if it isn't asked to be creative, intuitive, or use common sense.\n",
    "### --------------------------------------------------------------------------------------------------------------------------------------------------------------\n",
    "### Q7. What are the various methods and technologies for solving machine learning problems? Any two of them should be defined in detail.\n",
    "### Ans - Machine learning uses two techniques: supervised learning, which trains a model on known input and output data to predict future outputs, and unsupervised learning, which uses hidden patterns or internal structures in the input data.\n",
    "### --------------------------------------------------------------------------------------------------------------------------------------------------------------\n",
    "### Q8. Can you explain the various forms of supervised learning? Explain each one with an example application.\n",
    "### Ans - Regression. Regression is used to understand the relationship between dependable and independent variables. ... Naive Bayes. A Naive Bayes algorithm is used for large datasets. ... Classification. ... Neutral networks. ... Random forest.\n",
    "### --------------------------------------------------------------------------------------------------------------------------------------------------------------\n",
    "### Q9. What is the difference between supervised and unsupervised learning? With a sample application in each region, explain the differences.\n",
    "### Ans - supervised learning uses labeled input and output data, while an unsupervised learning algorithm does not.\n",
    "### --------------------------------------------------------------------------------------------------------------------------------------------------------------\n",
    "### Q10. Describe the machine learning process in depth.\n",
    "### Ans - Machine learning is the process of making systems that learn and improve by themselves, by being specifically programmed."
   ]
  },
  {
   "cell_type": "code",
   "execution_count": null,
   "id": "4593d53f",
   "metadata": {},
   "outputs": [],
   "source": []
  }
 ],
 "metadata": {
  "kernelspec": {
   "display_name": "Python 3 (ipykernel)",
   "language": "python",
   "name": "python3"
  },
  "language_info": {
   "codemirror_mode": {
    "name": "ipython",
    "version": 3
   },
   "file_extension": ".py",
   "mimetype": "text/x-python",
   "name": "python",
   "nbconvert_exporter": "python",
   "pygments_lexer": "ipython3",
   "version": "3.9.7"
  }
 },
 "nbformat": 4,
 "nbformat_minor": 5
}
