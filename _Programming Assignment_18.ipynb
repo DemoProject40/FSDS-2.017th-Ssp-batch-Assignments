{
 "cells": [
  {
   "cell_type": "markdown",
   "id": "edb3585d",
   "metadata": {},
   "source": [
    "# Programming Assignment_18\n"
   ]
  },
  {
   "cell_type": "markdown",
   "id": "30fe82bd",
   "metadata": {},
   "source": [
    "###  Question 1:\n",
    "Create a function that takes a list of non-negative integers and strings and return a new list\n",
    "without the strings.\n",
    "Examples\n",
    "filter_list([1, 2, &quot;a&quot;, &quot;b&quot;]) ➞ [1, 2]\n",
    "filter_list([1, &quot;a&quot;, &quot;b&quot;, 0, 15]) ➞ [1, 0, 15]\n",
    "filter_list([1, 2, &quot;aasf&quot;, &quot;1&quot;, &quot;123&quot;, 123]) ➞ [1, 2, 123]"
   ]
  },
  {
   "cell_type": "code",
   "execution_count": 5,
   "id": "2fdfd346",
   "metadata": {},
   "outputs": [
    {
     "name": "stdout",
     "output_type": "stream",
     "text": [
      "[291, 34, 102, 45]\n"
     ]
    }
   ],
   "source": [
    "def filter_list(lst):\n",
    "    intlist = []\n",
    "    while len(lst) > 0:\n",
    "        if isinstance(lst[0],int):\n",
    "            if (lst[0] >= 0):\n",
    "                intlist.append(lst[0])\n",
    "                lst.remove(lst[0])\n",
    "            else:\n",
    "                lst.remove(lst[0])\n",
    "        if isinstance(lst[0],str):\n",
    "            lst.remove(lst[0])\n",
    "    return (intlist)\n",
    "\n",
    "x=filter_list([291,34,102,45,\"a\",\"b\"])\n",
    "print(x)"
   ]
  },
  {
   "cell_type": "markdown",
   "id": "75532e7f",
   "metadata": {},
   "source": [
    "### Question 2:\n",
    "The &quot;Reverser&quot; takes a string as input and returns that string in reverse order, with the\n",
    "opposite case.\n",
    "Examples\n",
    "reverse(&quot;Hello World&quot;) ➞ &quot;DLROw OLLEh&quot;\n",
    "reverse(&quot;ReVeRsE&quot;) ➞ &quot;eSrEvEr&quot;\n",
    "reverse(&quot;Radar&quot;) ➞ &quot;RADAr&quot;"
   ]
  },
  {
   "cell_type": "code",
   "execution_count": 9,
   "id": "d49e633f",
   "metadata": {},
   "outputs": [
    {
     "name": "stdout",
     "output_type": "stream",
     "text": [
      "The original string is : Geeksforgeeks\n",
      "The reversed string(using loops) is : skeegrofskeeG\n"
     ]
    }
   ],
   "source": [
    "def reverse(s):\n",
    "\tstr = \"\"\n",
    "\tfor i in s:\n",
    "\t\tstr = i + str\n",
    "\treturn str\n",
    "\n",
    "s = \"Geeksforgeeks\"\n",
    "\n",
    "print(\"The original string is : \", end=\"\")\n",
    "print(s)\n",
    "\n",
    "print(\"The reversed string(using loops) is : \", end=\"\")\n",
    "print(reverse(s))\n"
   ]
  },
  {
   "cell_type": "markdown",
   "id": "aa215168",
   "metadata": {},
   "source": [
    "### Question 3:\n",
    "You can assign variables from lists like this:\n",
    "lst = [1, 2, 3, 4, 5, 6]\n",
    "first = lst[0]\n",
    "middle = lst[1:-1]\n",
    "last = lst[-1]\n",
    "print(first) ➞ outputs 1\n",
    "print(middle) ➞ outputs [2, 3, 4, 5]\n",
    "print(last) ➞ outputs 6\n",
    "With Python 3, you can assign variables from lists in a much more succinct way. Create\n",
    "variables first, middle and last from the given list using destructuring assignment\n",
    "(check the Resources tab for some examples), where:\n",
    "first ➞ 1\n",
    "middle ➞ [2, 3, 4, 5]\n",
    "last ➞ 6\n",
    "\n",
    "Your task is to unpack the list writeyourcodehere into three variables, being first,\n",
    "middle, and last, with middle being everything in between the first and last element. Then\n",
    "print all three variables."
   ]
  },
  {
   "cell_type": "code",
   "execution_count": 12,
   "id": "3d1db2b8",
   "metadata": {},
   "outputs": [
    {
     "name": "stdout",
     "output_type": "stream",
     "text": [
      "[1, 2, 3, 4, 5]\n"
     ]
    }
   ],
   "source": [
    "def unique_list(l):\n",
    "    x = []\n",
    "    for a in l:\n",
    "        if a not in x:\n",
    "            x.append(a)\n",
    "    return x\n",
    "\n",
    "print(unique_list([1,2,3,3,3,3,4,5])) \n"
   ]
  },
  {
   "cell_type": "markdown",
   "id": "7a0b007a",
   "metadata": {},
   "source": [
    "### 4. Question 4:\n",
    "Write a function that calculates the factorial of a number recursively.\n",
    "Examples\n",
    "factorial(5) ➞ 120\n",
    "factorial(3) ➞ 6\n",
    "factorial(1) ➞ 1\n",
    "factorial(0) ➞ 1"
   ]
  },
  {
   "cell_type": "code",
   "execution_count": 13,
   "id": "9a40b41d",
   "metadata": {},
   "outputs": [
    {
     "name": "stdout",
     "output_type": "stream",
     "text": [
      "Enter a number: 7\n",
      "The factorial of 7 is 5040\n"
     ]
    }
   ],
   "source": [
    "def recur_factorial(n):  \n",
    "    if n == 1:  \n",
    "        return n  \n",
    "    else:  \n",
    "        return n*recur_factorial(n-1)  \n",
    "# take input from the user  \n",
    "num = int(input(\"Enter a number: \"))  \n",
    "# check is the number is negative  \n",
    "if num < 0:  \n",
    "    print(\"Sorry, factorial does not exist for negative numbers\")  \n",
    "elif num == 0:  \n",
    "    print(\"The factorial of 0 is 1\")  \n",
    "else:  \n",
    "    print(\"The factorial of\",num,\"is\",recur_factorial(num))  "
   ]
  },
  {
   "cell_type": "markdown",
   "id": "a8b66bbe",
   "metadata": {},
   "source": [
    "### Question 5\n",
    "Write a function that moves all elements of one type to the end of the list.\n",
    "Examples\n",
    "move_to_end([1, 3, 2, 4, 4, 1], 1) ➞ [3, 2, 4, 4, 1, 1]\n",
    "Move all the 1s to the end of the array.\n",
    "move_to_end([7, 8, 9, 1, 2, 3, 4], 9) ➞ [7, 8, 1, 2, 3, 4, 9]\n",
    "move_to_end([&quot;a&quot;, &quot;a&quot;, &quot;a&quot;, &quot;b&quot;], &quot;a&quot;) ➞ [&quot;b&quot;, &quot;a&quot;, &quot;a&quot;, &quot;a&quot;]"
   ]
  },
  {
   "cell_type": "code",
   "execution_count": 14,
   "id": "f0c1d274",
   "metadata": {},
   "outputs": [
    {
     "name": "stdout",
     "output_type": "stream",
     "text": [
      "6 5 3 1 1 "
     ]
    }
   ],
   "source": [
    "def moveElementToEnd(array, toMove):\n",
    "    i = 0\n",
    "    j = len(array) - 1\n",
    "    while (i < j):\n",
    "        while (i < j and array[j] == toMove):\n",
    "            j-=1\n",
    "\n",
    "        if (array[i] == toMove):\n",
    "            array[i], array[j] = array[j] , array[i]\n",
    "        i += 1\n",
    "    return array\n",
    "\n",
    "# Driver code\n",
    "if __name__ ==\"__main__\":\n",
    "\n",
    "    arr = [ 1, 1, 3, 5, 6 ]\n",
    "    K = 1\n",
    "    ans = moveElementToEnd(arr, K)\n",
    "    for i in range(len(arr)):\n",
    "        print(ans[i] ,end= \" \")\n"
   ]
  },
  {
   "cell_type": "code",
   "execution_count": null,
   "id": "9c6506ce",
   "metadata": {},
   "outputs": [],
   "source": []
  }
 ],
 "metadata": {
  "kernelspec": {
   "display_name": "Python 3 (ipykernel)",
   "language": "python",
   "name": "python3"
  },
  "language_info": {
   "codemirror_mode": {
    "name": "ipython",
    "version": 3
   },
   "file_extension": ".py",
   "mimetype": "text/x-python",
   "name": "python",
   "nbconvert_exporter": "python",
   "pygments_lexer": "ipython3",
   "version": "3.9.7"
  }
 },
 "nbformat": 4,
 "nbformat_minor": 5
}
