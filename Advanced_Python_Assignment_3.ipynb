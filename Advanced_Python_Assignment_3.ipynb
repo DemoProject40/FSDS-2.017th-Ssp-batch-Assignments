{
 "cells": [
  {
   "cell_type": "markdown",
   "id": "06a957f3",
   "metadata": {},
   "source": [
    "### Q1. What is the concept of an abstract superclass?\n",
    "### Ans - An abstract class, in the context of python, is a superclass that cannot be instantiated and is used to state or define general characteristics.\n",
    "### --------------------------------------------------------------------------------------------------------------------------------------------------------------\n",
    "### Q2. What happens when a class statement. top level contains a basic assignment statement?\n",
    "### Ans - My guess is it's any variable declarations that happen outside of any functions or class methods that fire as soon as a module is loaded.\n",
    "### --------------------------------------------------------------------------------------------------------------------------------------------------------------\n",
    "### Q3. Why does a class need to manually call a superclass&#39;s __init__ method?\n",
    "### Ans- The __init__ function is used to set everything up when you create an instance of the class\n",
    "### --------------------------------------------------------------------------------------------------------------------------------------------------------------\n",
    "### Q4. How can you augment, instead of completely replacing, an inherited method?\n",
    "### Ans - A more sophisticated way to augment an inherited method involves forwarding. Message forwarding allows you to augment an inherited method in such a way that it can perform its inherited action and some new action.\n",
    "### --------------------------------------------------------------------------------------------------------------------------------------------------------------\n",
    "### Q5. How is the local scope of a class different from that of a function?\n",
    "### Ans - Local scope just refers to the scope available to a given variable, but function scope would refer to variables inside a function"
   ]
  }
 ],
 "metadata": {
  "kernelspec": {
   "display_name": "Python 3 (ipykernel)",
   "language": "python",
   "name": "python3"
  },
  "language_info": {
   "codemirror_mode": {
    "name": "ipython",
    "version": 3
   },
   "file_extension": ".py",
   "mimetype": "text/x-python",
   "name": "python",
   "nbconvert_exporter": "python",
   "pygments_lexer": "ipython3",
   "version": "3.9.7"
  }
 },
 "nbformat": 4,
 "nbformat_minor": 5
}
