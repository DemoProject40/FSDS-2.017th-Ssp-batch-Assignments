{
 "cells": [
  {
   "cell_type": "markdown",
   "id": "06a957f3",
   "metadata": {},
   "source": [
    "### Q1. In the sense of machine learning, what is a model? What is the best way to train a model?\n",
    "### Ans - Training a model simply means learning (determining) good values for all the weights and the bias from labeled examples.\n",
    "### --------------------------------------------------------------------------------------------------------------------------------------------------------------\n",
    "### Q2. In the sense of machine learning, explain the &quot;No Free Lunch&quot; theorem.\n",
    "### Ans - The “no free lunch” (NFL) theorem for supervised machine learning is a theorem that essentially implies that no single machine learning algorithm is universally the best-performing algorithm for all problems.\n",
    "### --------------------------------------------------------------------------------------------------------------------------------------------------------------\n",
    "### Q3. Describe the K-fold cross-validation mechanism in detail.\n",
    "### Ans- K-fold cross-validation approach divides the input dataset into K groups of samples of equal sizes.\n",
    "### --------------------------------------------------------------------------------------------------------------------------------------------------------------\n",
    "### Q4. Describe the bootstrap sampling method. What is the aim of it?\n",
    "### Ans - The bootstrap method is a statistical technique for estimating quantities about a population by averaging estimates from multiple small data samples.\n",
    "### --------------------------------------------------------------------------------------------------------------------------------------------------------------\n",
    "### Q5. What is the significance of calculating the Kappa value for a classification model? Demonstrate how to measure the Kappa value of a classification model using a sample collection of results.\n",
    "### Ans - It basically tells you how much better your classifier is performing over the performance of a classifier that simply guesses at random according to the frequency of each class\n",
    "### --------------------------------------------------------------------------------------------------------------------------------------------------------------\n",
    "### Q6. Describe the model ensemble method. In machine learning, what part does it play?\n",
    "### Ans - In this ensemble technique, machine learning professionals use a number of models for making predictions about each data point.\n",
    "### --------------------------------------------------------------------------------------------------------------------------------------------------------------\n",
    "### Q7. What is a descriptive model&#39;s main purpose? Give examples of real-world problems that descriptive models were used to solve.\n",
    "### Ans - Descriptive modeling can be used to solve a variety of real-world problems and questions. When carrying out descriptive modeling, the individual \n",
    "### --------------------------------------------------------------------------------------------------------------------------------------------------------------\n",
    "### Q8. Describe how to evaluate a linear regression model.\n",
    "### Ans - It consists of 3 stages – (1) analyzing the correlation and directionality of the data, (2) estimating the model, i.e., fitting the line, and (3) evaluating the validity and usefulness of the model.\n",
    "### --------------------------------------------------------------------------------------------------------------------------------------------------------------\n",
    "### Q9. Distinguish :\n",
    "1. Descriptive vs. predictive models\n",
    "### Ans - A descriptive model will exploit the past data that are stored in databases and provide you with an accurate report. A Predictive model, identifies patterns found in past and transactional data to find risks and future outcomes.\n",
    "### --------------------------------------------------------------------------------------------------------------------------------------------------------------\n",
    "### Q10. Make quick notes on:\n",
    "1. LOOCV.\n",
    "### Ans - The Leave-One-Out Cross-Validation, or LOOCV, procedure is used to estimate the performance of machine learning algorithms when they are used to make predictions on data not used to train the model.\n",
    "### --------------------------------------------------------------------------------------------------------------------------------------------------------------"
   ]
  },
  {
   "cell_type": "code",
   "execution_count": null,
   "id": "0329c21b",
   "metadata": {},
   "outputs": [],
   "source": []
  }
 ],
 "metadata": {
  "kernelspec": {
   "display_name": "Python 3 (ipykernel)",
   "language": "python",
   "name": "python3"
  },
  "language_info": {
   "codemirror_mode": {
    "name": "ipython",
    "version": 3
   },
   "file_extension": ".py",
   "mimetype": "text/x-python",
   "name": "python",
   "nbconvert_exporter": "python",
   "pygments_lexer": "ipython3",
   "version": "3.10.9"
  }
 },
 "nbformat": 4,
 "nbformat_minor": 5
}
