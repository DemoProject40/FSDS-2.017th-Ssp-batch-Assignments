{
 "cells": [
  {
   "cell_type": "markdown",
   "id": "06a957f3",
   "metadata": {},
   "source": [
    "### Q1. What is the difference between __getattr__ and __getattribute__?\n",
    "### Ans -  The main difference between __getattr__ and __getattribute__ is that if the attribute was not found by the usual way then __getattr__ is used. Whereas the __getattribute__ is used before looking at the actual attributes on the object.\n",
    "### --------------------------------------------------------------------------------------------------------------------------------------------------------------\n",
    "### Q2. What is the difference between properties and descriptors?\n",
    "### Ans - descriptors are a low-level mechanism that lets you hook into an object's attributes being accessed. Properties are a high-level application of this; that is, properties are implemented using descriptors.\n",
    "### --------------------------------------------------------------------------------------------------------------------------------------------------------------\n",
    "### Q3. What are the key differences in functionality between __getattr__ and __getattribute__, as well as properties and descriptors?\n",
    "### Ans- A key difference between __getattr__ and __getattribute__ is that __getattr__ is only invoked if the attribute wasn't found the usual ways.\n",
    "### --------------------------------------------------------------------------------------------------------------------------------------------------------------"
   ]
  },
  {
   "cell_type": "code",
   "execution_count": null,
   "id": "cf00e408",
   "metadata": {},
   "outputs": [],
   "source": []
  }
 ],
 "metadata": {
  "kernelspec": {
   "display_name": "Python 3 (ipykernel)",
   "language": "python",
   "name": "python3"
  },
  "language_info": {
   "codemirror_mode": {
    "name": "ipython",
    "version": 3
   },
   "file_extension": ".py",
   "mimetype": "text/x-python",
   "name": "python",
   "nbconvert_exporter": "python",
   "pygments_lexer": "ipython3",
   "version": "3.9.7"
  }
 },
 "nbformat": 4,
 "nbformat_minor": 5
}
