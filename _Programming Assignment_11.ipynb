{
 "cells": [
  {
   "cell_type": "markdown",
   "id": "edb3585d",
   "metadata": {},
   "source": [
    "# Programming Assignment_11\n"
   ]
  },
  {
   "cell_type": "markdown",
   "id": "30fe82bd",
   "metadata": {},
   "source": [
    " ###  1. Write a Python program to find words which are greater than given length k?"
   ]
  },
  {
   "cell_type": "code",
   "execution_count": 18,
   "id": "2fdfd346",
   "metadata": {},
   "outputs": [
    {
     "name": "stdout",
     "output_type": "stream",
     "text": [
      "Enter the value of the k = 3\n",
      "this\n",
      "programming\n",
      "languages\n"
     ]
    }
   ],
   "source": [
    "words = \"I am a data scientist engineering\"\n",
    "k=int(input(\"Enter the value of the k = \"))\n",
    "for x in split_words:\n",
    "    if len(x)>k:\n",
    "        print(x)"
   ]
  },
  {
   "cell_type": "markdown",
   "id": "75532e7f",
   "metadata": {},
   "source": [
    "### 2. Write a Python program for removing i-th character from a string?"
   ]
  },
  {
   "cell_type": "code",
   "execution_count": 20,
   "id": "d49e633f",
   "metadata": {},
   "outputs": [
    {
     "name": "stdout",
     "output_type": "stream",
     "text": [
      "Enter the value for removing letter : 4\n",
      "before remove  ['I', 'am', 'a', 'scientist', 'engineering']\n",
      "before remove  ['I', 'am', 'a', 'scientist']\n"
     ]
    }
   ],
   "source": [
    "remove_word=int(input(\"Enter the value for removing letter : \"))\n",
    "print(\"before remove \",split_words)\n",
    "del split_words[remove_word]\n",
    "print(\"before remove \",split_words)"
   ]
  },
  {
   "cell_type": "markdown",
   "id": "aa215168",
   "metadata": {},
   "source": [
    "### 3. Write a Python program to split and join a string?"
   ]
  },
  {
   "cell_type": "code",
   "execution_count": 22,
   "id": "3d1db2b8",
   "metadata": {},
   "outputs": [
    {
     "name": "stdout",
     "output_type": "stream",
     "text": [
      "I-am-a-data-scientist-engineering\n"
     ]
    }
   ],
   "source": [
    "string = '-'.join(split_words)\n",
    "print(string)"
   ]
  },
  {
   "cell_type": "markdown",
   "id": "7a0b007a",
   "metadata": {},
   "source": [
    "### 4. Write a Python to check if a given string is binary string or not?"
   ]
  },
  {
   "cell_type": "code",
   "execution_count": 25,
   "id": "9a40b41d",
   "metadata": {},
   "outputs": [
    {
     "name": "stdout",
     "output_type": "stream",
     "text": [
      "Yes\n"
     ]
    }
   ],
   "source": [
    "string = \"01010101010001011010\"\n",
    "if(string.count('0')+string.count('1')==len(string)):\n",
    "\tprint(\"Yes\")\n",
    "else:\n",
    "\tprint(\"No\")\n"
   ]
  },
  {
   "cell_type": "markdown",
   "id": "a8b66bbe",
   "metadata": {},
   "source": [
    "### 5. Write a Python program to find uncommon words from two Strings?"
   ]
  },
  {
   "cell_type": "code",
   "execution_count": 29,
   "id": "f0c1d274",
   "metadata": {},
   "outputs": [
    {
     "name": "stdout",
     "output_type": "stream",
     "text": [
      "['Data', 'Software', 'Developer', 'Scientist']\n"
     ]
    }
   ],
   "source": [
    "def uncommon(s1,s2):\n",
    "    s1=s1.split()\n",
    "    s2=s2.split()\n",
    "    k=set(s1).symmetric_difference(set(s2))\n",
    "    return k\n",
    "\n",
    "a=\"I am a Software Developer\"\n",
    "b=\"I am a Data Scientist\"\n",
    "print(list(uncommon(a,b)))"
   ]
  },
  {
   "cell_type": "markdown",
   "id": "abaded8d",
   "metadata": {},
   "source": [
    "### 6. Write a Python to find all duplicate characters in string?"
   ]
  },
  {
   "cell_type": "code",
   "execution_count": 1,
   "id": "84d59f8e",
   "metadata": {},
   "outputs": [
    {
     "name": "stdout",
     "output_type": "stream",
     "text": [
      "a t i\n"
     ]
    }
   ],
   "source": [
    "def find_dup_char(input):\n",
    "    x=[]\n",
    "    for i in input:\n",
    "        if i not in x and input.count(i)>1:\n",
    "            x.append(i)\n",
    "    print(\" \".join(x))\n",
    "\n",
    "if __name__ == \"__main__\":\n",
    "    input = 'DataScientist'\n",
    "    find_dup_char(input)\n"
   ]
  },
  {
   "cell_type": "markdown",
   "id": "bf07b63e",
   "metadata": {},
   "source": [
    "### 7. Write a Python Program to check if a string contains any special character?"
   ]
  },
  {
   "cell_type": "code",
   "execution_count": 9,
   "id": "86e91c7a",
   "metadata": {},
   "outputs": [
    {
     "name": "stdout",
     "output_type": "stream",
     "text": [
      "valid\n"
     ]
    }
   ],
   "source": [
    "o=\"dataScientist\"\n",
    "import re\n",
    "if(bool(re.match('^[a-zA-Z0-9]*$',o))==True):\n",
    "    print(\"valid\")\n",
    "else:\n",
    "    print(\"invalid\")"
   ]
  },
  {
   "cell_type": "code",
   "execution_count": null,
   "id": "c7a3db90",
   "metadata": {},
   "outputs": [],
   "source": []
  },
  {
   "cell_type": "code",
   "execution_count": null,
   "id": "730bb713",
   "metadata": {},
   "outputs": [],
   "source": []
  }
 ],
 "metadata": {
  "kernelspec": {
   "display_name": "Python 3 (ipykernel)",
   "language": "python",
   "name": "python3"
  },
  "language_info": {
   "codemirror_mode": {
    "name": "ipython",
    "version": 3
   },
   "file_extension": ".py",
   "mimetype": "text/x-python",
   "name": "python",
   "nbconvert_exporter": "python",
   "pygments_lexer": "ipython3",
   "version": "3.9.7"
  }
 },
 "nbformat": 4,
 "nbformat_minor": 5
}
