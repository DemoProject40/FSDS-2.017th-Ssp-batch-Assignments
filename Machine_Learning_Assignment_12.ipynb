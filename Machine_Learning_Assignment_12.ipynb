{
 "cells": [
  {
   "cell_type": "markdown",
   "id": "06a957f3",
   "metadata": {},
   "source": [
    "### Q1. What is prior probability? Give an example.\n",
    "### Ans - The prior probability of oil being found on acre C is one third, or 0.333.\n",
    "### --------------------------------------------------------------------------------------------------------------------------------------------------------------\n",
    "### Q2. What is posterior probability? Give an example.\n",
    "### Ans - Posterior probability is a revised probability that takes into account new available information.\n",
    "### --------------------------------------------------------------------------------------------------------------------------------------------------------------\n",
    "### Q3. What is likelihood probability? Give an example.\n",
    "### Ans- If we flip the coin one time, the probability that it will land on heads is 0.5.\n",
    "### --------------------------------------------------------------------------------------------------------------------------------------------------------------\n",
    "### Q4. What is Naïve Bayes classifier? Why is it named so?\n",
    "### Ans -Naïve Bayes classification is called Naïve because it assumes class conditional independence.\n",
    "### --------------------------------------------------------------------------------------------------------------------------------------------------------------\n",
    "### Q5. What is optimal Bayes classifier?\n",
    "### Ans - Bayes Optimal Classifier is a probabilistic framework that finds the most probable prediction using the training data and space of hypotheses to make a prediction for a new data instance.\n",
    "### --------------------------------------------------------------------------------------------------------------------------------------------------------------\n",
    "### Q6. Write any two features of Bayesian learning methods.\n",
    "### Ans - prior knowledge is provided by asserting (1) a prior probability for each candidate hypothesis, and (2) a probability distribution over observed data for each possible hypothesis.\n",
    "### --------------------------------------------------------------------------------------------------------------------------------------------------------------\n",
    "### Q7. Define the concept of consistent learners.\n",
    "### Ans - A learner L using a hypothesis H and training data D is said to be a consistent learner if it always outputs a hypothesis with zero error on D whenever H contains such a hypothesis.\n",
    "### --------------------------------------------------------------------------------------------------------------------------------------------------------------\n",
    "### Q8.Write any two strengths of Bayes classifier.\n",
    "### Ans - The Naive Bayes algorithm gives a fast and highly scalable model for building and scoring. It is known to scale linearly with the number of predictors and rows. It handles categorization difficulties.\n",
    "### --------------------------------------------------------------------------------------------------------------------------------------------------------------\n",
    "### Q9. Write any two weaknesses of Bayes classifier.\n",
    "### Ans - Conditional Independence Assumption does not always hold. ... Zero probability problem : When we encounter words in the test data for a particular class that are not present in the training data, we might end up with zero class probabilities.\n",
    "### --------------------------------------------------------------------------------------------------------------------------------------------------------------\n",
    "### Q10. Explain how Naïve Bayes classifier is used for\n",
    "1. Text classification\n",
    "2. Spam filtering\n",
    "### Ans - \n",
    "### - Text classification is a machine learning technique that assigns a set of predefined categories to open-ended text.\n",
    "### - Spam filters are designed to identify emails that attackers or marketers use to send unwanted or dangerous content. \n",
    "### --------------------------------------------------------------------------------------------------------------------------------------------------------------\n"
   ]
  },
  {
   "cell_type": "code",
   "execution_count": null,
   "id": "677f8052",
   "metadata": {},
   "outputs": [],
   "source": []
  }
 ],
 "metadata": {
  "kernelspec": {
   "display_name": "Python 3 (ipykernel)",
   "language": "python",
   "name": "python3"
  },
  "language_info": {
   "codemirror_mode": {
    "name": "ipython",
    "version": 3
   },
   "file_extension": ".py",
   "mimetype": "text/x-python",
   "name": "python",
   "nbconvert_exporter": "python",
   "pygments_lexer": "ipython3",
   "version": "3.10.9"
  }
 },
 "nbformat": 4,
 "nbformat_minor": 5
}
