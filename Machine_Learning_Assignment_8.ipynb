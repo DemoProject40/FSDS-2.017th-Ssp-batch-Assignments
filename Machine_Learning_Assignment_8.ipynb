{
 "cells": [
  {
   "cell_type": "markdown",
   "id": "06a957f3",
   "metadata": {},
   "source": [
    "### Q1. What exactly is a feature? Give an example to illustrate your point.\n",
    "### Ans - A feature is a unique quality or characteristic that something has. Real-life examples: Elaborately colored tail feathers are peacocks' most well-known feature.\n",
    "### --------------------------------------------------------------------------------------------------------------------------------------------------------------\n",
    "### Q2. What are the various circumstances in which feature construction is required?\n",
    "### Ans - Features of construction contracts\n",
    "- Base date.\n",
    "- Practical completion.\n",
    "- Retention.\n",
    "- Sectional completion.\n",
    "- Snagging.\n",
    "### --------------------------------------------------------------------------------------------------------------------------------------------------------------\n",
    "### Q3. Describe how nominal variables are encoded.\n",
    "### Ans- When we have a feature where variables are just names and there is no order or rank to this variable's feature.\n",
    "### --------------------------------------------------------------------------------------------------------------------------------------------------------------\n",
    "### Q4. Describe how numeric features are converted to categorical features.\n",
    "### Ans - It is the process of transforming continuous variables into categorical variables by creating a set of intervals, which are contiguous, that span over the range of the variable's values.\n",
    "### --------------------------------------------------------------------------------------------------------------------------------------------------------------\n",
    "### Q5. Describe the feature selection wrapper approach. State the advantages and disadvantages of this approach?\n",
    "### Ans - This method facilitates the detection of possible interactions amongst variables. Wrapper methods focus on feature subsets that will help improve the quality of the results of the clustering algorithm used for the selection.\n",
    "### --------------------------------------------------------------------------------------------------------------------------------------------------------------\n",
    "### Q6. When is a feature considered irrelevant? What can be said to quantify it?\n",
    "### Ans - Irrelevant features are not necessary to include at all. The feature which did not require for predicting accuracy is known as an irrelevant feature.\n",
    "### --------------------------------------------------------------------------------------------------------------------------------------------------------------\n",
    "### Q7. When is a function considered redundant? What criteria are used to identify features that could be redundant?\n",
    "### Ans - Redundancy for continuous features is defined by Pearson correlation coefficient and Euclidian distance.\n",
    "### --------------------------------------------------------------------------------------------------------------------------------------------------------------\n",
    "### Q8. What are the various distance measurements used to determine feature similarity?\n",
    "### Ans - The most common distance function used for numeric attributes or features is the Euclidean distance which is defined in the following formula: Euclidean distance between two points in n-dimensional space.\n",
    "### --------------------------------------------------------------------------------------------------------------------------------------------------------------\n",
    "### Q9. State difference between Euclidean and Manhattan distances?\n",
    "### Ans - Euclidean distance is the shortest path between source and destination which is a straight line but Manhattan distance is sum of all the real distances between source(s) and destination(d) \n",
    "### --------------------------------------------------------------------------------------------------------------------------------------------------------------\n",
    "### Q10. Distinguish between feature transformation and feature selection.\n",
    "### Ans - feature transformation: transformation of data to improve the accuracy of the algorithm; feature selection: removing unnecessary features.\n",
    "### --------------------------------------------------------------------------------------------------------------------------------------------------------------"
   ]
  },
  {
   "cell_type": "code",
   "execution_count": null,
   "id": "13b98e58",
   "metadata": {},
   "outputs": [],
   "source": []
  }
 ],
 "metadata": {
  "kernelspec": {
   "display_name": "Python 3 (ipykernel)",
   "language": "python",
   "name": "python3"
  },
  "language_info": {
   "codemirror_mode": {
    "name": "ipython",
    "version": 3
   },
   "file_extension": ".py",
   "mimetype": "text/x-python",
   "name": "python",
   "nbconvert_exporter": "python",
   "pygments_lexer": "ipython3",
   "version": "3.10.9"
  }
 },
 "nbformat": 4,
 "nbformat_minor": 5
}
